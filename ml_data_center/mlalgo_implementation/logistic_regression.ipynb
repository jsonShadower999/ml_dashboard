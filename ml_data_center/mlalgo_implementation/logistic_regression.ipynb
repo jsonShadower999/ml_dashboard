{
 "cells": [
  {
   "cell_type": "code",
   "execution_count": null,
   "id": "5e739591",
   "metadata": {
    "vscode": {
     "languageId": "plaintext"
    }
   },
   "outputs": [],
   "source": [
    "class LogisticRegression:\n",
    "   def __init__(self, lr=0.01, num_iter=100000, fit_intercept=True, verbose=False):\n",
    "      self.lr = lr\n",
    "      self.num_iter = num_iter\n",
    "      self.fit_intercept = fit_intercept\n",
    "      self.verbose = verbose\n",
    "   def __add_intercept(self, X):\n",
    "      intercept = np.ones((X.shape[0], 1))\n",
    "      return np.concatenate((intercept, X), axis=1)\n",
    "   def __sigmoid(self, z):\n",
    "      return 1 / (1 + np.exp(-z))\n",
    "   def __loss(self, h, y):\n",
    "      return (-y * np.log(h) - (1 - y) * np.log(1 - h)).mean()\n",
    "   def fit(self, X, y):\n",
    "      if self.fit_intercept:\n",
    "         X = self.__add_intercept(X)"
   ]
  }
 ],
 "metadata": {
  "language_info": {
   "name": "python"
  }
 },
 "nbformat": 4,
 "nbformat_minor": 5
}
