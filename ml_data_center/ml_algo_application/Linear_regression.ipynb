{
 "cells": [
  {
   "cell_type": "markdown",
   "id": "0a211ca2",
   "metadata": {},
   "source": [
    "import pandas as pd \n",
    "import matplotlib.pyplot as plt \n",
    "import numpy as np"
   ]
  },
  {
   "cell_type": "code",
   "execution_count": null,
   "id": "a347bfb1",
   "metadata": {
    "vscode": {
     "languageId": "plaintext"
    }
   },
   "outputs": [],
   "source": [
    "df=pd.read_csv('dataset_clg.csv')"
   ]
  },
  {
   "cell_type": "code",
   "execution_count": null,
   "id": "e46698f1",
   "metadata": {
    "vscode": {
     "languageId": "plaintext"
    }
   },
   "outputs": [],
   "source": [
    "df.head()\n",
    "df.tail()\n",
    "df.sample()\n",
    "\n",
    "\n",
    "df.describe() #math \n",
    "df.info() #datatpe n features \n",
    "\n",
    "\n",
    "df.isnull().sum()\n",
    "df.isnull().sum().mean()\n",
    "\n",
    "df.isduplicated().sum()\n",
    "\n",
    "df.min(0)\n",
    "df.max()\n",
    "\n"
   ]
  },
  {
   "cell_type": "code",
   "execution_count": null,
   "id": "8a53f57a",
   "metadata": {
    "vscode": {
     "languageId": "plaintext"
    }
   },
   "outputs": [],
   "source": [
    "#df.dropna()\n",
    "#df.fillna(0)\n",
    "#df.dropduplicates()\n"
   ]
  },
  {
   "cell_type": "code",
   "execution_count": null,
   "id": "63d52774",
   "metadata": {
    "vscode": {
     "languageId": "plaintext"
    }
   },
   "outputs": [],
   "source": [
    "#I tried IMPUTATION with MEDIAN \n",
    "imputer1 = SimpleImputer(strategy='median')\n",
    "imputer2 = SimpleImputer(strategy='median')\n",
    "\n",
    "trf = ColumnTransformer([\n",
    "    ('trf1',imputer1,['Marks_scored_PCM']),\n",
    "    ('trf2',imputer2,['Percentage'])\n",
    "],remainder='passthrough')\n",
    "\n",
    "trf.fit(X_train)\n",
    "\n",
    "\n",
    "#train \n",
    "\n",
    "X_train = trf.transform(X_train)\n",
    "X_test = trf.transform(X_test)"
   ]
  },
  {
   "cell_type": "code",
   "execution_count": null,
   "id": "581f746c",
   "metadata": {
    "vscode": {
     "languageId": "plaintext"
    }
   },
   "outputs": [],
   "source": [
    "df = df.rename(columns={\"Marks_scored_PCM\":\"Avg_Marks_PCM})\n"
   ]
  },
  {
   "cell_type": "code",
   "execution_count": null,
   "id": "b6fc6572",
   "metadata": {
    "vscode": {
     "languageId": "plaintext"
    }
   },
   "outputs": [],
   "source": [
    "#now plot the dist plot  for seeing NORMALISATION \n",
    "#box plot for OUTLIER check \n",
    "#tackle both case as in ml_demographics/tute3,4 is found suspected \n",
    "#here avg marks is enough to proof percentage , so not creating new column \n"
   ]
  },
  {
   "cell_type": "code",
   "execution_count": null,
   "id": "39ba921a",
   "metadata": {
    "vscode": {
     "languageId": "plaintext"
    }
   },
   "outputs": [],
   "source": [
    "#split the dataset \n",
    "x=df.iloc[:,0:1]\n",
    "y=df.iloc[:,-1] #target percentage \n",
    "\n",
    "\n",
    "from sklearn.model_selection import train_test_split \n",
    "x_train,x_test,y_train,y_test=train_test_split(x,y,test_size=0.2,random_state=3)\n",
    "\n"
   ]
  },
  {
   "cell_type": "code",
   "execution_count": null,
   "id": "d385f72e",
   "metadata": {
    "vscode": {
     "languageId": "plaintext"
    }
   },
   "outputs": [],
   "source": [
    "#apply algo \n",
    "from sklearn.linear_model import LinearRegression \n",
    "lr=LinearRegression()\n",
    "lr.filt(x_train,y_train)\n",
    "lr.predict(X_train)\n",
    "\n"
   ]
  },
  {
   "cell_type": "code",
   "execution_count": null,
   "id": "7bbc64ec",
   "metadata": {
    "vscode": {
     "languageId": "plaintext"
    }
   },
   "outputs": [],
   "source": [
    "plt.scatter(df['cgpa'],df['package'])\n",
    "plt.plot(X_train,lr.predict(X_train),color='red')\n",
    "plt.xlabel('CGPA')\n",
    "plt.ylabel('Package(in lpa)')"
   ]
  },
  {
   "cell_type": "code",
   "execution_count": null,
   "id": "54e4b167",
   "metadata": {
    "vscode": {
     "languageId": "plaintext"
    }
   },
   "outputs": [],
   "source": [
    "#accuraqcy check \n",
    "print(\"MAE\",mean_absolute_error(y_test,y_pred))\n",
    "print(\"MSE\",mean_squared_error(y_test,y_pred))\n",
    "print(\"RMSE\",np.sqrt(mean_squared_error(y_test,y_pred)))\n",
    "print(\"MSE\",r2_score(y_test,y_pred))\n",
    "r2 = r2_score(y_test,y_pred)\n",
    "1 - ((1-r2)*(40-1)/(40-1-2))"
   ]
  },
  {
   "cell_type": "markdown",
   "id": "44c3a911",
   "metadata": {},
   "source": [
    "#performance improving steps!!!\n"
   ]
  },
  {
   "cell_type": "code",
   "execution_count": null,
   "id": "0759c7f0",
   "metadata": {
    "vscode": {
     "languageId": "plaintext"
    }
   },
   "outputs": [],
   "source": [
    "class GradientDesentRegressor:\n",
    "    \n",
    "    def __init__(self,learning_rate,epochs):\n",
    "        self.m = 100\n",
    "        self.b = -120\n",
    "        self.lr = learning_rate\n",
    "        self.epochs = epochs\n",
    "        \n",
    "    def fit(self,X,y):\n",
    "        # calcualte the b using GD\n",
    "        for i in range(self.epochs):\n",
    "            loss_slope_b = -2 * np.sum(y - self.m*X.ravel() - self.b)\n",
    "            loss_slope_m = -2 * np.sum((y - self.m*X.ravel() - self.b)*X.ravel())\n",
    "            \n",
    "            self.b = self.b - (self.lr * loss_slope_b)\n",
    "            self.m = self.m - (self.lr * loss_slope_m)\n",
    "        print(self.m,self.b)\n",
    "        \n",
    "    def predict(self,X):\n",
    "        return self.m * X + self.b\n",
    "    "
   ]
  },
  {
   "cell_type": "code",
   "execution_count": null,
   "id": "ed1fabdb",
   "metadata": {
    "vscode": {
     "languageId": "plaintext"
    }
   },
   "outputs": [],
   "source": [
    "gd = GDRegressor(0.001,50)\n",
    "gd.fit(X_train,y_train)"
   ]
  },
  {
   "cell_type": "code",
   "execution_count": null,
   "id": "7584fb47",
   "metadata": {
    "vscode": {
     "languageId": "plaintext"
    }
   },
   "outputs": [],
   "source": [
    "y_pred = gd.predict(X_test)\n",
    "from sklearn.metrics import r2_score\n",
    "r2_score(y_test,y_pred)"
   ]
  },
  {
   "cell_type": "code",
   "execution_count": null,
   "id": "5b2bc156",
   "metadata": {
    "vscode": {
     "languageId": "plaintext"
    }
   },
   "outputs": [],
   "source": [
    "#Best fit line \n",
    "#type of linear regression\n",
    "#assumption of linear regression#accuracy check techniques \n",
    "#predict value of M,B \n",
    "y=mx+B\n",
    "B-->intercept at 0 ,offset \n",
    "\n",
    "#gradient descent technique #types of gradient descent >>>\n",
    "Batch Gradient descent \n",
    "Mini Batch gradient descent \n",
    "stochastic gradient descent \n",
    "\n",
    "#bias variance tradeoff \n",
    "#ridge lasso improvementxd "
   ]
  }
 ],
 "metadata": {
  "language_info": {
   "name": "python"
  }
 },
 "nbformat": 4,
 "nbformat_minor": 5
}
