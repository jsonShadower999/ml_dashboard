{
 "cells": [
  {
   "cell_type": "code",
   "execution_count": null,
   "id": "32514785",
   "metadata": {
    "vscode": {
     "languageId": "plaintext"
    }
   },
   "outputs": [],
   "source": [
    "#what are outliers?\n",
    "#best fit line got distracted!!!\n",
    "#Anomaly detection algo ?\n",
    "#when to remove , change,include it as new feature ?\n",
    "linear , logistic , ada boast , deep learning got disturbed by outlier ; WEIGHTS \n",
    "\n",
    "\n",
    "REMOVE OUTLIER \n",
    "CAPPING range bin below 10 , 10 to 70 , above 70 \n",
    "normal distribution :>\n",
    "skewed data ,plot boxplot \n",
    "\n",
    "#how to detect outlier\n",
    "#dist plot -->see normalisation n skewness \n",
    "#box plot \n",
    "#percentile \n",
    "#IQR \n",
    "#zscore --Assumption needed::: >the col need to be normal distributed !!!\n",
    "\n",
    "\n",
    "mean+sd , mean-sd =68%data \n",
    "mean+2sd , mean-2sd=95%data \n",
    "\n"
   ]
  },
  {
   "cell_type": "code",
   "execution_count": null,
   "id": "1e9b38ff",
   "metadata": {
    "vscode": {
     "languageId": "plaintext"
    }
   },
   "outputs": [],
   "source": [
    "sns.distplot(df['placement_exam_marks'])#skewed\n",
    "sns.distplot(df['cgpa']) #normalised\n",
    "\n",
    "\n",
    "df['placement_exam_marks'].skew()\n",
    "\n",
    "#boundary 1\n",
    "\n",
    "# Finding the boundary values\n",
    "print(\"Highest allowed\",df['cgpa'].mean() + 3*df['cgpa'].std())\n",
    "print(\"Lowest allowed\",df['cgpa'].mean() - 3*df['cgpa'].std())\n",
    "\n",
    "# Finding the outliers\n",
    "df[(df['cgpa'] > 8.80) | (df['cgpa'] < 5.11)]\n",
    "\n",
    "# Trimming\n",
    "\n",
    "new_df = df[(df['cgpa'] < 8.80) & (df['cgpa'] > 5.11)]\n",
    "new_df"
   ]
  },
  {
   "cell_type": "code",
   "execution_count": null,
   "id": "88cac73f",
   "metadata": {
    "vscode": {
     "languageId": "plaintext"
    }
   },
   "outputs": [],
   "source": [
    "\n",
    "df['cgpa_zscore'] = (df['cgpa'] - df['cgpa'].mean())/df['cgpa'].std()"
   ]
  },
  {
   "cell_type": "code",
   "execution_count": null,
   "id": "be9a3f6e",
   "metadata": {
    "vscode": {
     "languageId": "plaintext"
    }
   },
   "outputs": [],
   "source": [
    "#capping limit boundary set \n",
    "upper_limit = df['cgpa'].mean() + 3*df['cgpa'].std()\n",
    "lower_limit = df['cgpa'].mean() - 3*df['cgpa'].std()\n",
    "\n",
    "\n",
    "np.where(condition,true_task,false_task)\n",
    "\n",
    "df['cgpa'] = np.where(\n",
    "    df['cgpa']>upper_limit,\n",
    "    upper_limit,\n",
    "    np.where(\n",
    "        df['cgpa']<lower_limit,\n",
    "        lower_limit,\n",
    "        df['cgpa']\n",
    "    )\n",
    ")"
   ]
  },
  {
   "cell_type": "code",
   "execution_count": null,
   "id": "703bc03a",
   "metadata": {
    "vscode": {
     "languageId": "plaintext"
    }
   },
   "outputs": [],
   "source": [
    "#boxplot \n",
    "#when distribution is skewed \n",
    "#percentile \n",
    "100% percentile is 80,all other val are less than 80 \n",
    "0% is 13 , means no val is less than 13\n",
    "\n",
    "Q1 25th percentile \n",
    "Q3 75th percentile \n",
    "iqr=Q3-Q1\n",
    "min=Q1-1.5*iqr\n",
    "max=q3+1.5*iqr \n",
    "\n",
    "\n",
    "sns.boxplot(df['project_submission'])\n",
    "# Finding the IQR\n",
    "percentile25 = df['project_submission'].quantile(0.25)\n",
    "percentile75 = df['project_submission'].quantile(0.75)\n",
    "iqr = percentile75 - percentile25\n",
    "\n",
    "upper_limit = percentile75 + 1.5 * iqr\n",
    "lower_limit = percentile25 - 1.5 * iqr\n",
    "\n",
    "\n",
    "#capping\n",
    "\n",
    "new_df_cap = df.copy()\n",
    "\n",
    "new_df_cap['project_submission'] = np.where(\n",
    "    new_df_cap['project_submission'] > upper_limit,\n",
    "    upper_limit,\n",
    "    np.where(\n",
    "        new_df_cap['project_submission'] < lower_limit,\n",
    "        lower_limit,\n",
    "        new_df_cap['project_submission']\n",
    "    )\n",
    ")\n",
    "#now dist plot !!!\n",
    "\n"
   ]
  },
  {
   "cell_type": "code",
   "execution_count": null,
   "id": "b99ca1ca",
   "metadata": {
    "vscode": {
     "languageId": "plaintext"
    }
   },
   "outputs": [],
   "source": [
    "#percentile approach \n",
    "#99%k upper wale outlier , n 1% k niche wale bhi outlier ,remove or cap the outlier \n",
    "\n",
    "sns.distplot(df['Height'])\n",
    "sns.boxplot(df['Height'])\n",
    "\n",
    "upper_limit = df['Height'].quantile(0.99)\n",
    "upper_limit\n",
    "\n",
    "\n",
    "lower_limit = df['Height'].quantile(0.01)\n",
    "lower_limit\n",
    "\n",
    "new_df = df[(df['Height'] <= 74.78) & (df['Height'] >= 58.13)]\n",
    "\n",
    "\n",
    "sns.distplot(new_df['Height'])\n",
    "sns.boxplot(new_df['Height'])\n",
    "\n",
    "\n",
    "\n",
    "#capping \n",
    "\n",
    "# Capping --> Winsorization\n",
    "df['Height'] = np.where(df['Height'] >= upper_limit,\n",
    "        upper_limit,\n",
    "        np.where(df['Height'] <= lower_limit,\n",
    "        lower_limit,\n",
    "        df['Height']))"
   ]
  },
  {
   "cell_type": "code",
   "execution_count": null,
   "id": "0b542a22",
   "metadata": {
    "vscode": {
     "languageId": "plaintext"
    }
   },
   "outputs": [],
   "source": [
    "#FEATURE CREATION....CONSTRUCTION \n",
    "\n",
    "#domain knowledge is required ,\n",
    "\n",
    "\n",
    "np.mean(cross_val_score(LogisticRegression(),X,y,scoring='accuracy',cv=20))\n",
    "#i got 69 accuracy \n",
    "\n"
   ]
  },
  {
   "cell_type": "code",
   "execution_count": null,
   "id": "87530134",
   "metadata": {
    "vscode": {
     "languageId": "plaintext"
    }
   },
   "outputs": [],
   "source": [
    "#split feature \n",
    "\n",
    "df['Name'].str.split(', ', expand=True)[1].str.split('.', expand=True)[0]\n",
    "\n",
    "(df.groupby('Title').mean()['Survived']).sort_values(ascending=False)"
   ]
  }
 ],
 "metadata": {
  "language_info": {
   "name": "python"
  }
 },
 "nbformat": 4,
 "nbformat_minor": 5
}
