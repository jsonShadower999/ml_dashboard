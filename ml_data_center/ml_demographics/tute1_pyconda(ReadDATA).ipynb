{
 "cells": [
  {
   "cell_type": "code",
   "execution_count": null,
   "id": "973544e0",
   "metadata": {
    "vscode": {
     "languageId": "plaintext"
    }
   },
   "outputs": [],
   "source": [
    "pip install pandas"
   ]
  },
  {
   "cell_type": "markdown",
   "id": "40c35fc7",
   "metadata": {},
   "source": [
    "#pandas series, dataframe, read file formats \n",
    "#clean cutout data \n",
    "#data understanding eda \n",
    "#pandas-->panel data\n"
   ]
  },
  {
   "cell_type": "code",
   "execution_count": null,
   "id": "6d96d03f",
   "metadata": {
    "vscode": {
     "languageId": "plaintext"
    }
   },
   "outputs": [],
   "source": [
    "#create series in pandas\n",
    "arr_series=pd.series([1,2,3,4],index=[\"a\",\"b\",\"c\",\"d\"])\n"
   ]
  },
  {
   "cell_type": "code",
   "execution_count": null,
   "id": "f17246e3",
   "metadata": {
    "vscode": {
     "languageId": "plaintext"
    }
   },
   "outputs": [],
   "source": [
    "#multi d data using dataframe \n",
    "\n",
    "import pandas as pd\n",
    "\n",
    "data = {\n",
    "  \"milege\": [420, 380, 390],\n",
    "  \"duration\": [50, 40, 45]\n",
    "}\n",
    "arr_df = pd.DataFrame(data)\n",
    "print(arr_data)\n"
   ]
  },
  {
   "cell_type": "code",
   "execution_count": null,
   "id": "7f5bd593",
   "metadata": {
    "vscode": {
     "languageId": "plaintext"
    }
   },
   "outputs": [],
   "source": [
    "#loc vs iloc \n",
    "\n",
    "#print the index=0 1 data \n",
    "print(arr_df[[0,1]])"
   ]
  },
  {
   "cell_type": "code",
   "execution_count": null,
   "id": "c78846ba",
   "metadata": {},
   "outputs": [],
   "source": [
    "import pandas as pd \n",
    "df_dataset=pd.read_csv('dataset1.csv')\n",
    "print(df_dataset)\n"
   ]
  },
  {
   "cell_type": "code",
   "execution_count": null,
   "id": "47fac087",
   "metadata": {},
   "outputs": [],
   "source": [
    "#onsite data extraction through url \n",
    "import requests\n",
    "from io import StringIO\n",
    "\n",
    "url = \"https://rawdata.csv\"\n",
    "headers = {\"User-Agent\": \"Mozilla/5.0 (Macintosh; Intel Mac OS X 10.14; rv:66.0) Gecko/20100101 Firefox/66.0\"}\n",
    "req = requests.get(url, headers=headers)\n",
    "data = StringIO(req.text)\n",
    "\n",
    "pd.read_csv(data)"
   ]
  },
  {
   "cell_type": "code",
   "execution_count": null,
   "id": "4e4e7af9",
   "metadata": {},
   "outputs": [],
   "source": [
    "#create a index and reset the orientation \n",
    "pd.read_csv('product_kt.csv',index_col='date_manufacture')\n",
    "\n",
    "#sometime data heading /label is the first data \n",
    "pd.read_csv('test.csv',header=1)"
   ]
  },
  {
   "cell_type": "code",
   "execution_count": null,
   "id": "a28e57c7",
   "metadata": {},
   "outputs": [],
   "source": [
    "#converting the date col to valid datatype datetime while reading a file \n",
    "\n",
    "pd.read_csv('product_kt.csv',parse_dates=['date']).info()"
   ]
  },
  {
   "cell_type": "code",
   "execution_count": null,
   "id": "0d9f65cb",
   "metadata": {},
   "outputs": [],
   "source": [
    "#convert the long labelled columns into shorthands \n",
    "def func_longtosmallnameconvertor:\n",
    "\n",
    "\n",
    "\n",
    "pd.read_csv('product_kt.csv',converters={'col_long_name':func_longtosmallnameconvertor})"
   ]
  },
  {
   "cell_type": "code",
   "execution_count": null,
   "id": "325d3bca",
   "metadata": {},
   "outputs": [],
   "source": [
    "df = df.rename(columns={\"Engine HP\": \"HP\", \"Engine Cylinders\": \"Cylinders\", \"Transmission Type\": \"Transmission\", \"Driven_Wheels\": \"Drive Mode\",\"highway MPG\": \"MPG-H\", \"city mpg\": \"MPG-C\", \"MSRP\": \"Price\" })"
   ]
  },
  {
   "cell_type": "code",
   "execution_count": null,
   "id": "bd1f9b5f",
   "metadata": {},
   "outputs": [],
   "source": [
    "#replace nan value to \"NOTNEEDED\" at readtime \n",
    "pd.read_csv('product_kt.csv',na_values=['Manufacture_range',\"NOTNEEDED\"])"
   ]
  },
  {
   "cell_type": "code",
   "execution_count": null,
   "id": "20f4ed2d",
   "metadata": {},
   "outputs": [],
   "source": [
    "#memory effective loading a file \n",
    "dataframe_fast_accesed=pd.read_csv('product_kt',chunksize=500)"
   ]
  }
 ],
 "metadata": {
  "language_info": {
   "name": "python"
  }
 },
 "nbformat": 4,
 "nbformat_minor": 5
}
