{
 "cells": [
  {
   "cell_type": "code",
   "execution_count": null,
   "id": "28acea7a",
   "metadata": {
    "vscode": {
     "languageId": "plaintext"
    }
   },
   "outputs": [],
   "source": [
    "#plot the curve for each feature to see the distribution is normalised or not \n",
    "#you can use pd.skew()==0 || plot dist plot \n",
    "#if the data distribution is not normalised you need to apply the transformation function \n",
    "#why normalisation is needed ?\n",
    "\n",
    "\n",
    "#what is skewed data ?left /right?\n",
    "\n",
    "#right skewed dataset(data ki value ranges are large )---->Log transformation \n",
    "#log transsform \n",
    "#1/x transform \n",
    "#x^2 -->mujhe agar values big range krna h -->left skewed \n",
    "\n"
   ]
  },
  {
   "cell_type": "code",
   "execution_count": null,
   "id": "a010fcc0",
   "metadata": {
    "vscode": {
     "languageId": "plaintext"
    }
   },
   "outputs": [],
   "source": [
    "#in normalisation shape n orientation of data is changed !!!\n",
    "#distribution me change is there \n",
    "#the new distribution is just trying to proof n mold as NORMAL DISTRIBUTION \n",
    "#Probability distribution function of the data is changed n normalised as bell curve \n",
    "\n"
   ]
  },
  {
   "cell_type": "code",
   "execution_count": null,
   "id": "3ae02f15",
   "metadata": {
    "vscode": {
     "languageId": "plaintext"
    }
   },
   "outputs": [],
   "source": [
    "#read data \n",
    "#EDA 1 \n",
    "#scaling minmaxscaler() now mean=0 n Standard deviation=1\n",
    "encoding if needed ordina/one-hot/label /use pipeline \n",
    "#use ml algo and check accuracy 1\n",
    "#now use normalisation functiontranform/power transform n find accuracy 2 \n",
    "#\n",
    "\n",
    "\n",
    "\n",
    "\n"
   ]
  },
  {
   "cell_type": "code",
   "execution_count": null,
   "id": "7d341fec",
   "metadata": {
    "vscode": {
     "languageId": "plaintext"
    }
   },
   "outputs": [],
   "source": [
    "trf = FunctionTransformer(func=np.log1p)\n",
    "X_train_transformed = trf.fit_transform(X_train)\n",
    "X_test_transformed = trf.transform(X_test)\n",
    "\n",
    "#after transformation of features plot distplot to seee the changes in performanc \n",
    "#if it improve then only choose it \n",
    "\n"
   ]
  },
  {
   "cell_type": "code",
   "execution_count": null,
   "id": "61003325",
   "metadata": {
    "vscode": {
     "languageId": "plaintext"
    }
   },
   "outputs": [],
   "source": [
    "#Box-cox transformation \n",
    "#the feature must have positive values \n",
    "\n",
    "# Applying Box-Cox Transform\n",
    "\n",
    "pt = PowerTransformer(method='box-cox')\n",
    "#to avoid the negative number ,to negative also become small +ve val\n",
    "X_train_transformed = pt.fit_transform(X_train+0.000001)\n",
    "X_test_transformed = pt.transform(X_test+0.000001)\n",
    "\n",
    "pd.DataFrame({'cols':X_train.columns,'box_cox_lambdas':pt.lambdas_})\n",
    "#ptlabda is kitna val addition krna padha  for each col , lamda is internal caluclation by algo \n"
   ]
  },
  {
   "cell_type": "markdown",
   "id": "388ac4ea",
   "metadata": {},
   "source": [
    "#yeo-jhonshon\n",
    "#works also for -ve to +val feature \n"
   ]
  }
 ],
 "metadata": {
  "language_info": {
   "name": "python"
  }
 },
 "nbformat": 4,
 "nbformat_minor": 5
}
