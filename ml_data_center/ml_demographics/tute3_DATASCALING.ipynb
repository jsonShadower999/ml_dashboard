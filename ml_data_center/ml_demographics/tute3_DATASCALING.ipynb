{
 "cells": [
  {
   "cell_type": "code",
   "execution_count": null,
   "id": "6f790e07",
   "metadata": {
    "vscode": {
     "languageId": "plaintext"
    }
   },
   "outputs": [],
   "source": [
    "#what is feature engineering ?\n",
    "it include \n",
    "feature transformation ...data encoding \n",
    "feature construction ...split/create new \n",
    "feature selection ...perform eda n choose best \n",
    "feature exctraction ...PCA , cure of dimensionality \n",
    "feature normalisation n scaling \n",
    "#it covers feature scaling n feature transform\n",
    "#scaling describe?\n",
    "#feature transformation?data type :\n",
    "#data encoding?\n",
    "#categorical vs nominal vs numeric data \n",
    "Ordinal encoding: feature value have a relation\n",
    "one hot encoding : feature values have no relation NOMINAL / getdummies()\n",
    "Label encoding : y categorical \n",
    "Describe terms :\n",
    "SIMPLE IMPUTER()\n",
    "OrdinalEncoder()\n",
    "LabelEncoder()\n",
    "\n",
    "\n",
    "fit vs fit_tranform \n",
    "\n",
    "cross validation \n",
    "\n",
    "\n",
    "\n",
    "#in the data sclaing techniqu  u just restrict he range of data \n",
    "for the certain column \n",
    "#use standardisation n normalisation\n",
    "\n",
    "#what is feature scaling ?\n",
    "age + salary + last_5_year_purchase =purchase_in_future \n",
    "here problem is value of age is small than salary value \n",
    "#it has two types standardisation /normalisation \n",
    "#so for each featur eis transformed \n",
    "#after transformation feature has mean=0 , standard deviation=1 \n"
   ]
  },
  {
   "cell_type": "code",
   "execution_count": null,
   "id": "53969d04",
   "metadata": {
    "vscode": {
     "languageId": "plaintext"
    }
   },
   "outputs": [],
   "source": [
    "import numpy as np # linear algebra\n",
    "import pandas as pd # data processing\n",
    "import matplotlib.pyplot as plt\n",
    "import seaborn as sns"
   ]
  },
  {
   "cell_type": "code",
   "execution_count": null,
   "id": "57274142",
   "metadata": {
    "vscode": {
     "languageId": "plaintext"
    }
   },
   "outputs": [],
   "source": [
    "#read the dataset \n",
    "#traintestsplit \n",
    "x_train,x_test,y_train,y_test"
   ]
  },
  {
   "cell_type": "code",
   "execution_count": null,
   "id": "237dab7d",
   "metadata": {
    "vscode": {
     "languageId": "plaintext"
    }
   },
   "outputs": [],
   "source": [
    "from sklearn.preprocessing import StandardScaler \n",
    "#x_current-x_mean/SD  \n",
    "scaler=StandardScaler()\n",
    "scaler.fit(x_train)\n",
    "x_train_scaled=scaler.transform(x_train) #return value is numpy \n",
    "x_test_scaled=scaler.transform(x_test)"
   ]
  },
  {
   "cell_type": "code",
   "execution_count": null,
   "id": "ca258305",
   "metadata": {
    "vscode": {
     "languageId": "plaintext"
    }
   },
   "outputs": [],
   "source": [
    "#becoz the result is numpy convert to df of pandas \n",
    "x_train_scaled=pd.DataFrame(x_train_scaled,columns=x_train.columns)\n",
    "x_test_scaled=pd.DataFrame(x_test_scaled,columns=x_test.columns)"
   ]
  },
  {
   "cell_type": "code",
   "execution_count": null,
   "id": "16b61864",
   "metadata": {
    "vscode": {
     "languageId": "plaintext"
    }
   },
   "outputs": [],
   "source": [
    "#what is effect of scaling \n",
    "=>poitn n distribution the shape of data remains same \n",
    "=>data just mirrored upon center n value are minimised in value \n",
    "=>comaring the features is easy because values of features are tried to be normalised \n"
   ]
  },
  {
   "cell_type": "code",
   "execution_count": null,
   "id": "5b25da9f",
   "metadata": {
    "vscode": {
     "languageId": "plaintext"
    }
   },
   "outputs": [],
   "source": [
    "#now apply the algo \n",
    "lr=LogisticRegression()\n",
    "lr_scaled.fit(x_train_scaled,y_train)\n",
    "y_pred_scaled=lr_scaled.predict(x_test_scaled)\n",
    "accuracy_score(y_pred_scaled,y_test)"
   ]
  },
  {
   "cell_type": "code",
   "execution_count": null,
   "id": "fea42040",
   "metadata": {
    "vscode": {
     "languageId": "plaintext"
    }
   },
   "outputs": [],
   "source": [
    "#impact of outlier remains same no change \n",
    "#standardisation do not causes any change to outlier "
   ]
  },
  {
   "cell_type": "code",
   "execution_count": null,
   "id": "f5cc2613",
   "metadata": {
    "vscode": {
     "languageId": "plaintext"
    }
   },
   "outputs": [],
   "source": [
    "#when to use standardisation \n",
    "\n",
    "where DISTANCE DIFFERENCE NEED TO BE CALCULATED !!!! USE IT \n",
    ">>> k-mean \n",
    ">>> PCA \n",
    ">>>knn \n",
    ">>>gradient descent \n",
    "\n"
   ]
  },
  {
   "cell_type": "code",
   "execution_count": null,
   "id": "16968377",
   "metadata": {
    "vscode": {
     "languageId": "plaintext"
    }
   },
   "outputs": [],
   "source": [
    "#NORMALISATION !!!!\n",
    "\n",
    "elimination of unit system from feature value \n",
    "100kg , 100g 100ton \n",
    "\n",
    "technique :::\n",
    "MINMAXSCALING \n",
    "MEAN NORMALISATION \n",
    "MAX ABSOLUTE SCALING \n",
    "ROBUST SCALING \n"
   ]
  },
  {
   "cell_type": "code",
   "execution_count": null,
   "id": "92cdf7cc",
   "metadata": {
    "vscode": {
     "languageId": "plaintext"
    }
   },
   "outputs": [],
   "source": [
    "MINMAX SCALING \n",
    "\n",
    "TRANSFORMED VAL=current-min_val/max-min \n",
    "range of value of tranformed val will be from 0 to 1 \n"
   ]
  },
  {
   "cell_type": "code",
   "execution_count": null,
   "id": "7432fdd6",
   "metadata": {
    "vscode": {
     "languageId": "plaintext"
    }
   },
   "outputs": [],
   "source": [
    "#\n",
    "from sklearn.preprocessing import MinMaxScaler \n",
    "scaler=MinMaxScaler()\n",
    "scaler.fit(x_train)\n",
    "x_t_scaled=scaler.transform(x_train)\n",
    "x_test_scaled=sclaer.transform(x_test) \n",
    "#this is also numpy -->Df \n",
    "\n",
    "x_t_scaled=pd.DataFrame(x_t_scaled,columns=x_train.columns)\n",
    "x_test_scaled=pd.DataFrame(x_test_scaled,columns=x_test.columns)\n",
    "np.round(x_t_scaled.describe(),1) \n",
    "\n",
    "#distribution remains same , scale get reduced !!!\n"
   ]
  },
  {
   "cell_type": "code",
   "execution_count": null,
   "id": "863e8504",
   "metadata": {
    "vscode": {
     "languageId": "plaintext"
    }
   },
   "outputs": [],
   "source": [
    "is feature scaling improve the performance ,needed \n",
    "better use standardisation \n",
    "minmiax scalor ,,,,,when range min, max is known \n",
    "image:0,255->minmaxscaling \n",
    "\n",
    "if outliers are there , use robust scaling \n"
   ]
  },
  {
   "cell_type": "code",
   "execution_count": null,
   "id": "e6bc5d3c",
   "metadata": {
    "vscode": {
     "languageId": "plaintext"
    }
   },
   "outputs": [],
   "source": [
    "#sometimes the column is numeric n i need to convert as the categorical \n",
    "#like there is Amazon series rating 100+,10k+,20k+ \n",
    "#so converting a numeric to categorical BINNING||DISCRETIZATION N BINARIZATION \n",
    "#BINNING ? value spread is in range , outlier can be tackled now in side any range it met !!!\n"
   ]
  },
  {
   "cell_type": "code",
   "execution_count": null,
   "id": "b23b864f",
   "metadata": {
    "vscode": {
     "languageId": "plaintext"
    }
   },
   "outputs": [],
   "source": [
    "kbin_age = KBinsDiscretizer(n_bins=5,encode='ordinal',strategy='quantile')\n",
    "kbin_rating = KBinsDiscretizer(n_bins=5,encode='ordinal',strategy='quantile')"
   ]
  },
  {
   "cell_type": "code",
   "execution_count": null,
   "id": "829e9b9f",
   "metadata": {
    "vscode": {
     "languageId": "plaintext"
    }
   },
   "outputs": [],
   "source": [
    "trf = ColumnTransformer([\n",
    "    ('tp1',kbin_age,[0]),\n",
    "    ('tp2',kbin_rating,[1])\n",
    "])"
   ]
  },
  {
   "cell_type": "code",
   "execution_count": null,
   "id": "f5b021c8",
   "metadata": {
    "vscode": {
     "languageId": "plaintext"
    }
   },
   "outputs": [],
   "source": [
    "X_train_trf = trf.fit_transform(X_train)\n",
    "X_test_trf = trf.transform(X_test)"
   ]
  },
  {
   "cell_type": "code",
   "execution_count": null,
   "id": "f6b5c019",
   "metadata": {
    "vscode": {
     "languageId": "plaintext"
    }
   },
   "outputs": [],
   "source": []
  },
  {
   "cell_type": "code",
   "execution_count": null,
   "id": "7aa3ec7b",
   "metadata": {
    "vscode": {
     "languageId": "plaintext"
    }
   },
   "outputs": [],
   "source": []
  },
  {
   "cell_type": "code",
   "execution_count": null,
   "id": "158657fc",
   "metadata": {
    "vscode": {
     "languageId": "plaintext"
    }
   },
   "outputs": [],
   "source": [
    "trf.named_transformers_['first'].bin_edges_\n",
    "\n",
    "output = pd.DataFrame({\n",
    "    'age':X_train['Age'],\n",
    "    'age_trf':X_train_trf[:,0],\n",
    "    'fare':X_train['review'],\n",
    "    'fare_trf':X_train_trf[:,1]\n",
    "})"
   ]
  },
  {
   "cell_type": "code",
   "execution_count": null,
   "id": "9227115f",
   "metadata": {
    "vscode": {
     "languageId": "plaintext"
    }
   },
   "outputs": [],
   "source": [
    "output['age_labels'] = pd.cut(x=X_train['Age'],\n",
    "                                    bins=trf.named_transformers_['first'].bin_edges_[0].tolist())\n",
    "output['review_labels'] = pd.cut(x=X_train['Fare'],\n",
    "                                    bins=trf.named_transformers_['second'].bin_edges_[0].tolist())\n",
    "\n"
   ]
  },
  {
   "cell_type": "code",
   "execution_count": null,
   "id": "fbd79bd5",
   "metadata": {
    "vscode": {
     "languageId": "plaintext"
    }
   },
   "outputs": [],
   "source": [
    "#A data feature like \n",
    "Address , Cabinno , rollno =12qwrer32QEE ,busseatnumber \n",
    "#this is called Mixed data structured \n",
    "\n",
    "\n",
    "# extract numerical part\n",
    "df['number_numerical'] = pd.to_numeric(df[\"number\"],errors='coerce',downcast='integer')\n",
    "# dataset 1,2,3,45,A,R,D,4,6,77,\n",
    "\n",
    "\n",
    "\n",
    "\n"
   ]
  },
  {
   "cell_type": "code",
   "execution_count": null,
   "id": "29d2100a",
   "metadata": {
    "vscode": {
     "languageId": "plaintext"
    }
   },
   "outputs": [],
   "source": [
    "df['cabin_num'] = df['Cabin'].str.extract('(\\d+)') # only digit \n",
    "df['cabin_cat'] = df['Cabin'].str[0] # captures the first letter\n",
    "\n",
    "df.head()\n",
    "\n",
    "\n",
    "# extract the last bit of ticket as number\n",
    "df['ticket_num'] = df['Ticket'].apply(lambda s: s.split()[-1])\n",
    "df['ticket_num'] = pd.to_numeric(df['ticket_num'],\n",
    "                                   errors='coerce',\n",
    "                                   downcast='integer')\n",
    "\n",
    "# extract the first part of ticket as category\n",
    "df['ticket_cat'] = df['Ticket'].apply(lambda s: s.split()[0])\n",
    "df['ticket_cat'] = np.where(df['ticket_cat'].str.isdigit(), np.nan,\n",
    "                              df['ticket_cat'])\n",
    "\n",
    "df.head(20)"
   ]
  },
  {
   "cell_type": "code",
   "execution_count": null,
   "id": "82d8cbd2",
   "metadata": {
    "vscode": {
     "languageId": "plaintext"
    }
   },
   "outputs": [],
   "source": [
    "#date time conversion \n",
    "\n",
    "date is normally a object data type \n",
    "\n",
    "# Converting to datetime datatype\n",
    "date['date'] = pd.to_datetime(date['date'])\n",
    "date['date_year'] = date['date'].dt.year\n",
    "date['date_month_no'] = date['date'].dt.month\n"
   ]
  },
  {
   "cell_type": "code",
   "execution_count": null,
   "id": "8470e72c",
   "metadata": {
    "vscode": {
     "languageId": "plaintext"
    }
   },
   "outputs": [],
   "source": [
    "#day is a holiday date_year\n",
    "\n",
    "#day of week name \n",
    "date['date_dow_name']=date['date'].dt.day_name()\n",
    "\n",
    "data['date_is_holiday]=np.where(date['date_dow_name'].in(['saturday','sunday']))\n"
   ]
  },
  {
   "cell_type": "code",
   "execution_count": null,
   "id": "576d0843",
   "metadata": {
    "vscode": {
     "languageId": "plaintext"
    }
   },
   "outputs": [],
   "source": [
    "#extract todays date in python \n",
    "import datetime \n",
    "today=datetime.datetime.today()\n",
    "print(today)"
   ]
  },
  {
   "cell_type": "code",
   "execution_count": null,
   "id": "02b19d5a",
   "metadata": {
    "vscode": {
     "languageId": "plaintext"
    }
   },
   "outputs": [],
   "source": [
    "#i have a feature \n",
    "the_dataset_date=date['date'] #numpy \n",
    "today-date['date']"
   ]
  },
  {
   "cell_type": "code",
   "execution_count": null,
   "id": "fb1c7036",
   "metadata": {
    "vscode": {
     "languageId": "plaintext"
    }
   },
   "outputs": [],
   "source": [
    "#months passed between two date \n",
    "\n",
    "30 days =1 month \n",
    "n/30or31 days = how many months \n",
    "days_in_between= np.round(today-date['date'])\n",
    "no_of_month_between = np.round(days_in_between/30)\n",
    "\n",
    "# for more accurate \n",
    "result_accurate=(days_in_between/np.timedelta64(1,'M'),0)\n"
   ]
  }
 ],
 "metadata": {
  "language_info": {
   "name": "python"
  }
 },
 "nbformat": 4,
 "nbformat_minor": 5
}
