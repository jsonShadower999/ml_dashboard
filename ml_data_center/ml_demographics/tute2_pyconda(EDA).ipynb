{
  "cells": [
    {
      "cell_type": "code",
      "execution_count": 1,
      "metadata": {
        "id": "uZ8DDhOjSQZR"
      },
      "outputs": [],
      "source": [
        "import pandas as pd\n",
        "import requests\n"
      ]
    },
    {
      "cell_type": "code",
      "execution_count": 3,
      "metadata": {
        "id": "AVuPLO9WSWhs"
      },
      "outputs": [],
      "source": [
        "response = requests.get('https://api.themoviedb.org/3/movie/top_rated?api_key=8265bd1679663a7ea12ac168da84d2e8&language=en-US&page=1')\n"
      ]
    },
    {
      "cell_type": "code",
      "execution_count": 6,
      "metadata": {
        "colab": {
          "base_uri": "https://localhost:8080/"
        },
        "id": "vNrQWPnnScBC",
        "outputId": "3a92800f-1bd6-436f-92cd-665958bb4edc"
      },
      "outputs": [
        {
          "name": "stdout",
          "output_type": "stream",
          "text": [
            "{'page': 1, 'results': [{'adult': False, 'backdrop_path': '/kXfqcdQKsToO0OUXHcrrNCHDBzO.jpg', 'genre_ids': [18, 80], 'id': 278, 'original_language': 'en', 'original_title': 'The Shawshank Redemption', 'overview': 'Imprisoned in the 1940s for the double murder of his wife and her lover, upstanding banker Andy Dufresne begins a new life at the Shawshank prison, where he puts his accounting skills to work for an amoral warden. During his long stretch in prison, Dufresne comes to be admired by the other inmates -- including an older prisoner named Red -- for his integrity and unquenchable sense of hope.', 'popularity': 29.8924, 'poster_path': '/9cqNxx0GxF0bflZmeSMuL5tnGzr.jpg', 'release_date': '1994-09-23', 'title': 'The Shawshank Redemption', 'video': False, 'vote_average': 8.71, 'vote_count': 28374}, {'adult': False, 'backdrop_path': '/tmU7GeKVybMWFButWEGl2M4GeiP.jpg', 'genre_ids': [18, 80], 'id': 238, 'original_language': 'en', 'original_title': 'The Godfather', 'overview': 'Spanning the years 1945 to 1955, a chronicle of the fictional Italian-American Corleone crime family. When organized crime family patriarch, Vito Corleone barely survives an attempt on his life, his youngest son, Michael steps in to take care of the would-be killers, launching a campaign of bloody revenge.', 'popularity': 38.6671, 'poster_path': '/3bhkrj58Vtu7enYsRolD1fZdja1.jpg', 'release_date': '1972-03-14', 'title': 'The Godfather', 'video': False, 'vote_average': 8.686, 'vote_count': 21491}, {'adult': False, 'backdrop_path': '/kGzFbGhp99zva6oZODW5atUtnqi.jpg', 'genre_ids': [18, 80], 'id': 240, 'original_language': 'en', 'original_title': 'The Godfather Part II', 'overview': 'In the continuing saga of the Corleone crime family, a young Vito Corleone grows up in Sicily and in 1910s New York. In the 1950s, Michael Corleone attempts to expand the family business into Las Vegas, Hollywood and Cuba.', 'popularity': 15.6755, 'poster_path': '/hek3koDUyRQk7FIhPXsa6mT2Zc3.jpg', 'release_date': '1974-12-20', 'title': 'The Godfather Part II', 'video': False, 'vote_average': 8.57, 'vote_count': 12985}, {'adult': False, 'backdrop_path': '/zb6fM1CX41D9rF9hdgclu0peUmy.jpg', 'genre_ids': [18, 36, 10752], 'id': 424, 'original_language': 'en', 'original_title': \"Schindler's List\", 'overview': 'The true story of how businessman Oskar Schindler saved over a thousand Jewish lives from the Nazis while they worked as slaves in his factory during World War II.', 'popularity': 29.2438, 'poster_path': '/sF1U4EUQS8YHUYjNl3pMGNIQyr0.jpg', 'release_date': '1993-12-15', 'title': \"Schindler's List\", 'video': False, 'vote_average': 8.564, 'vote_count': 16463}, {'adult': False, 'backdrop_path': '/bxgTSUenZDHNFerQ1whRKplrMKF.jpg', 'genre_ids': [18], 'id': 389, 'original_language': 'en', 'original_title': '12 Angry Men', 'overview': \"The defense and the prosecution have rested and the jury is filing into the jury room to decide if a young Spanish-American is guilty or innocent of murdering his father. What begins as an open and shut case soon becomes a mini-drama of each of the jurors' prejudices and preconceptions about the trial, the accused, and each other.\", 'popularity': 18.8647, 'poster_path': '/ow3wq89wM8qd5X7hWKxiRfsFf9C.jpg', 'release_date': '1957-04-10', 'title': '12 Angry Men', 'video': False, 'vote_average': 8.548, 'vote_count': 9153}, {'adult': False, 'backdrop_path': '/m4TUa2ciEWSlk37rOsjiSIvZDXE.jpg', 'genre_ids': [16, 10751, 14], 'id': 129, 'original_language': 'ja', 'original_title': '千と千尋の神隠し', 'overview': 'A young girl, Chihiro, becomes trapped in a strange new world of spirits. When her parents undergo a mysterious transformation, she must call upon the courage she never knew she had to free her family.', 'popularity': 21.5124, 'poster_path': '/39wmItIWsg5sZMyRUHLkWBcuVCM.jpg', 'release_date': '2001-07-20', 'title': 'Spirited Away', 'video': False, 'vote_average': 8.536, 'vote_count': 17178}, {'adult': False, 'backdrop_path': '/enNubozHn9pXi0ycTVYUWfpHZm.jpg', 'genre_ids': [18, 28, 80, 53], 'id': 155, 'original_language': 'en', 'original_title': 'The Dark Knight', 'overview': 'Batman raises the stakes in his war on crime. With the help of Lt. Jim Gordon and District Attorney Harvey Dent, Batman sets out to dismantle the remaining criminal organizations that plague the streets. The partnership proves to be effective, but they soon find themselves prey to a reign of chaos unleashed by a rising criminal mastermind known to the terrified citizens of Gotham as the Joker.', 'popularity': 26.2353, 'poster_path': '/qJ2tW6WMUDux911r6m7haRef0WH.jpg', 'release_date': '2008-07-16', 'title': 'The Dark Knight', 'video': False, 'vote_average': 8.52, 'vote_count': 33909}, {'adult': False, 'backdrop_path': '/90ez6ArvpO8bvpyIngBuwXOqJm5.jpg', 'genre_ids': [35, 18, 10749], 'id': 19404, 'original_language': 'hi', 'original_title': 'दिलवाले दुल्हनिया ले जायेंगे', 'overview': 'Raj is a rich, carefree, happy-go-lucky second generation NRI. Simran is the daughter of Chaudhary Baldev Singh, who in spite of being an NRI is very strict about adherence to Indian values. Simran has left for India to be married to her childhood fiancé. Raj leaves for India with a mission at his hands, to claim his lady love under the noses of her whole family. Thus begins a saga.', 'popularity': 8.9003, 'poster_path': '/rfcy6Gd3PbFIqwZX5U8xnbv7jOc.jpg', 'release_date': '1995-10-20', 'title': 'Dilwale Dulhania Le Jayenge', 'video': False, 'vote_average': 8.5, 'vote_count': 4487}, {'adult': False, 'backdrop_path': '/amZavErrjrdgDwhsIdpWxHNenIx.jpg', 'genre_ids': [14, 18, 80], 'id': 497, 'original_language': 'en', 'original_title': 'The Green Mile', 'overview': \"A supernatural tale set on death row in a Southern prison, where gentle giant John Coffey possesses the mysterious power to heal people's ailments. When the cell block's head guard, Paul Edgecomb, recognizes Coffey's miraculous gift, he tries desperately to help stave off the condemned man's execution.\", 'popularity': 26.4187, 'poster_path': '/8VG8fDNiy50H4FedGwdSVUPoaJe.jpg', 'release_date': '1999-12-10', 'title': 'The Green Mile', 'video': False, 'vote_average': 8.505, 'vote_count': 18122}, {'adult': False, 'backdrop_path': '/hiKmpZMGZsrkA3cdce8a7Dpos1j.jpg', 'genre_ids': [35, 53, 18], 'id': 496243, 'original_language': 'ko', 'original_title': '기생충', 'overview': \"All unemployed, Ki-taek's family takes peculiar interest in the wealthy and glamorous Parks for their livelihood until they get entangled in an unexpected incident.\", 'popularity': 25.4903, 'poster_path': '/7IiTTgloJzvGI1TAYymCfbfl3vT.jpg', 'release_date': '2019-05-30', 'title': 'Parasite', 'video': False, 'vote_average': 8.499, 'vote_count': 19095}, {'adult': False, 'backdrop_path': '/suaEOtk1N1sgg2MTM7oZd2cfVp3.jpg', 'genre_ids': [53, 80], 'id': 680, 'original_language': 'en', 'original_title': 'Pulp Fiction', 'overview': \"A burger-loving hit man, his philosophical partner, a drug-addled gangster's moll and a washed-up boxer converge in this sprawling, comedic crime caper. Their adventures unfurl in three stories that ingeniously trip back and forth in time.\", 'popularity': 45.5618, 'poster_path': '/vQWk5YBFWF4bZaofAbv0tShwBvQ.jpg', 'release_date': '1994-09-10', 'title': 'Pulp Fiction', 'video': False, 'vote_average': 8.489, 'vote_count': 28709}, {'adult': False, 'backdrop_path': '/2u7zbn8EudG6kLlBzUYqP8RyFU4.jpg', 'genre_ids': [12, 14, 28], 'id': 122, 'original_language': 'en', 'original_title': 'The Lord of the Rings: The Return of the King', 'overview': 'As armies mass for a final battle that will decide the fate of the world--and powerful, ancient forces of Light and Dark compete to determine the outcome--one member of the Fellowship of the Ring is revealed as the noble heir to the throne of the Kings of Men. Yet, the sole hope for triumph over evil lies with a brave hobbit, Frodo, who, accompanied by his loyal friend Sam and the hideous, wretched Gollum, ventures deep into the very dark heart of Mordor on his seemingly impossible quest to destroy the Ring of Power.\\u200b', 'popularity': 17.9119, 'poster_path': '/rCzpDGLbOoPwLjy3OAm5NUPOTrC.jpg', 'release_date': '2003-12-17', 'title': 'The Lord of the Rings: The Return of the King', 'video': False, 'vote_average': 8.485, 'vote_count': 25121}, {'adult': False, 'backdrop_path': '/8x9iKH8kWA0zdkgNdpAew7OstYe.jpg', 'genre_ids': [16, 10749, 18], 'id': 372058, 'original_language': 'ja', 'original_title': '君の名は。', 'overview': 'High schoolers Mitsuha and Taki are complete strangers living separate lives. But one night, they suddenly switch places. Mitsuha wakes up in Taki’s body, and he in hers. This bizarre occurrence continues to happen randomly, and the two must adjust their lives around each other.', 'popularity': 29.259, 'poster_path': '/8GJsy7w7frGquw1cy9jasOGNNI1.jpg', 'release_date': '2016-08-26', 'title': 'Your Name.', 'video': False, 'vote_average': 8.483, 'vote_count': 11794}, {'adult': False, 'backdrop_path': '/tlEFuIlaxRPXIYVHXbOSAMCfWqk.jpg', 'genre_ids': [35, 18, 10749], 'id': 13, 'original_language': 'en', 'original_title': 'Forrest Gump', 'overview': 'A man with a low IQ has accomplished great things in his life and been present during significant historic events—in each case, far exceeding what anyone imagined he could do. But despite all he has achieved, his one true love eludes him.', 'popularity': 20.4782, 'poster_path': '/arw2vcBveWOVZr6pxd9XTd1TdQa.jpg', 'release_date': '1994-06-23', 'title': 'Forrest Gump', 'video': False, 'vote_average': 8.468, 'vote_count': 28254}, {'adult': False, 'backdrop_path': '/x4biAVdPVCghBlsVIzB6NmbghIz.jpg', 'genre_ids': [37], 'id': 429, 'original_language': 'it', 'original_title': 'Il buono, il brutto, il cattivo', 'overview': 'While the Civil War rages on between the Union and the Confederacy, three men – a quiet loner, a ruthless hitman, and a Mexican bandit – comb the American Southwest in search of a strongbox containing $200,000 in stolen gold.', 'popularity': 28.0152, 'poster_path': '/bX2xnavhMYjWDoZp1VM6VnU1xwe.jpg', 'release_date': '1966-12-22', 'title': 'The Good, the Bad and the Ugly', 'video': False, 'vote_average': 8.462, 'vote_count': 9004}, {'adult': False, 'backdrop_path': '/l33oR0mnvf20avWyIMxW02EtQxn.jpg', 'genre_ids': [12, 18, 878], 'id': 157336, 'original_language': 'en', 'original_title': 'Interstellar', 'overview': 'The adventures of a group of explorers who make use of a newly discovered wormhole to surpass the limitations on human space travel and conquer the vast distances involved in an interstellar voyage.', 'popularity': 35.4099, 'poster_path': '/gEU2QniE6E77NI6lCU6MxlNBvIx.jpg', 'release_date': '2014-11-05', 'title': 'Interstellar', 'video': False, 'vote_average': 8.455, 'vote_count': 37220}, {'adult': False, 'backdrop_path': '/7TF4p86ZafnxFuNqWdhpHXFO244.jpg', 'genre_ids': [18, 80], 'id': 769, 'original_language': 'en', 'original_title': 'GoodFellas', 'overview': 'The true story of Henry Hill, a half-Irish, half-Sicilian Brooklyn kid who is adopted by neighbourhood gangsters at an early age and climbs the ranks of a Mafia family under the guidance of Jimmy Conway.', 'popularity': 30.6003, 'poster_path': '/aKuFiU82s5ISJpGZp7YkIr3kCUd.jpg', 'release_date': '1990-09-12', 'title': 'GoodFellas', 'video': False, 'vote_average': 8.455, 'vote_count': 13399}, {'adult': False, 'backdrop_path': '/sJNNMCc6B7KZIY3LH3JMYJJNH5j.jpg', 'genre_ids': [28, 18], 'id': 346, 'original_language': 'ja', 'original_title': '七人の侍', 'overview': \"A samurai answers a village's request for protection after he falls on hard times. The town needs protection from bandits, so the samurai gathers six others to help him teach the people how to defend themselves, and the villagers provide the soldiers with food.\", 'popularity': 9.735, 'poster_path': '/8OKmBV5BUFzmozIC3pPWKHy17kx.jpg', 'release_date': '1954-04-26', 'title': 'Seven Samurai', 'video': False, 'vote_average': 8.455, 'vote_count': 3899}, {'adult': False, 'backdrop_path': '/tDFvXn4tane9lUvFAFAUkMylwSr.jpg', 'genre_ids': [16, 18, 10752], 'id': 12477, 'original_language': 'ja', 'original_title': '火垂るの墓', 'overview': 'In the final months of World War II, 14-year-old Seita and his sister Setsuko are orphaned when their mother is killed during an air raid in Kobe, Japan. After a falling out with their aunt, they move into an abandoned bomb shelter. With no surviving relatives and their emergency rations depleted, Seita and Setsuko struggle to survive.', 'popularity': 0.0083, 'poster_path': '/k9tv1rXZbOhH7eiCk378x61kNQ1.jpg', 'release_date': '1988-04-16', 'title': 'Grave of the Fireflies', 'video': False, 'vote_average': 8.449, 'vote_count': 5907}, {'adult': False, 'backdrop_path': '/6aNKD81RHR1DqUUa8kOZ1TBY1Lp.jpg', 'genre_ids': [35, 18], 'id': 637, 'original_language': 'it', 'original_title': 'La vita è bella', 'overview': 'A touching story of an Italian book seller of Jewish ancestry who lives in his own little fairy tale. His creative and happy life would come to an abrupt halt when his entire family is deported to a concentration camp during World War II. While locked up he tries to convince his son that the whole thing is just a game.', 'popularity': 14.261, 'poster_path': '/74hLDKjD5aGYOotO6esUVaeISa2.jpg', 'release_date': '1997-12-20', 'title': 'Life Is Beautiful', 'video': False, 'vote_average': 8.448, 'vote_count': 13388}], 'total_pages': 509, 'total_results': 10171}\n",
            "[{'adult': False, 'backdrop_path': '/kXfqcdQKsToO0OUXHcrrNCHDBzO.jpg', 'genre_ids': [18, 80], 'id': 278, 'original_language': 'en', 'original_title': 'The Shawshank Redemption', 'overview': 'Imprisoned in the 1940s for the double murder of his wife and her lover, upstanding banker Andy Dufresne begins a new life at the Shawshank prison, where he puts his accounting skills to work for an amoral warden. During his long stretch in prison, Dufresne comes to be admired by the other inmates -- including an older prisoner named Red -- for his integrity and unquenchable sense of hope.', 'popularity': 29.8924, 'poster_path': '/9cqNxx0GxF0bflZmeSMuL5tnGzr.jpg', 'release_date': '1994-09-23', 'title': 'The Shawshank Redemption', 'video': False, 'vote_average': 8.71, 'vote_count': 28374}, {'adult': False, 'backdrop_path': '/tmU7GeKVybMWFButWEGl2M4GeiP.jpg', 'genre_ids': [18, 80], 'id': 238, 'original_language': 'en', 'original_title': 'The Godfather', 'overview': 'Spanning the years 1945 to 1955, a chronicle of the fictional Italian-American Corleone crime family. When organized crime family patriarch, Vito Corleone barely survives an attempt on his life, his youngest son, Michael steps in to take care of the would-be killers, launching a campaign of bloody revenge.', 'popularity': 38.6671, 'poster_path': '/3bhkrj58Vtu7enYsRolD1fZdja1.jpg', 'release_date': '1972-03-14', 'title': 'The Godfather', 'video': False, 'vote_average': 8.686, 'vote_count': 21491}, {'adult': False, 'backdrop_path': '/kGzFbGhp99zva6oZODW5atUtnqi.jpg', 'genre_ids': [18, 80], 'id': 240, 'original_language': 'en', 'original_title': 'The Godfather Part II', 'overview': 'In the continuing saga of the Corleone crime family, a young Vito Corleone grows up in Sicily and in 1910s New York. In the 1950s, Michael Corleone attempts to expand the family business into Las Vegas, Hollywood and Cuba.', 'popularity': 15.6755, 'poster_path': '/hek3koDUyRQk7FIhPXsa6mT2Zc3.jpg', 'release_date': '1974-12-20', 'title': 'The Godfather Part II', 'video': False, 'vote_average': 8.57, 'vote_count': 12985}, {'adult': False, 'backdrop_path': '/zb6fM1CX41D9rF9hdgclu0peUmy.jpg', 'genre_ids': [18, 36, 10752], 'id': 424, 'original_language': 'en', 'original_title': \"Schindler's List\", 'overview': 'The true story of how businessman Oskar Schindler saved over a thousand Jewish lives from the Nazis while they worked as slaves in his factory during World War II.', 'popularity': 29.2438, 'poster_path': '/sF1U4EUQS8YHUYjNl3pMGNIQyr0.jpg', 'release_date': '1993-12-15', 'title': \"Schindler's List\", 'video': False, 'vote_average': 8.564, 'vote_count': 16463}, {'adult': False, 'backdrop_path': '/bxgTSUenZDHNFerQ1whRKplrMKF.jpg', 'genre_ids': [18], 'id': 389, 'original_language': 'en', 'original_title': '12 Angry Men', 'overview': \"The defense and the prosecution have rested and the jury is filing into the jury room to decide if a young Spanish-American is guilty or innocent of murdering his father. What begins as an open and shut case soon becomes a mini-drama of each of the jurors' prejudices and preconceptions about the trial, the accused, and each other.\", 'popularity': 18.8647, 'poster_path': '/ow3wq89wM8qd5X7hWKxiRfsFf9C.jpg', 'release_date': '1957-04-10', 'title': '12 Angry Men', 'video': False, 'vote_average': 8.548, 'vote_count': 9153}, {'adult': False, 'backdrop_path': '/m4TUa2ciEWSlk37rOsjiSIvZDXE.jpg', 'genre_ids': [16, 10751, 14], 'id': 129, 'original_language': 'ja', 'original_title': '千と千尋の神隠し', 'overview': 'A young girl, Chihiro, becomes trapped in a strange new world of spirits. When her parents undergo a mysterious transformation, she must call upon the courage she never knew she had to free her family.', 'popularity': 21.5124, 'poster_path': '/39wmItIWsg5sZMyRUHLkWBcuVCM.jpg', 'release_date': '2001-07-20', 'title': 'Spirited Away', 'video': False, 'vote_average': 8.536, 'vote_count': 17178}, {'adult': False, 'backdrop_path': '/enNubozHn9pXi0ycTVYUWfpHZm.jpg', 'genre_ids': [18, 28, 80, 53], 'id': 155, 'original_language': 'en', 'original_title': 'The Dark Knight', 'overview': 'Batman raises the stakes in his war on crime. With the help of Lt. Jim Gordon and District Attorney Harvey Dent, Batman sets out to dismantle the remaining criminal organizations that plague the streets. The partnership proves to be effective, but they soon find themselves prey to a reign of chaos unleashed by a rising criminal mastermind known to the terrified citizens of Gotham as the Joker.', 'popularity': 26.2353, 'poster_path': '/qJ2tW6WMUDux911r6m7haRef0WH.jpg', 'release_date': '2008-07-16', 'title': 'The Dark Knight', 'video': False, 'vote_average': 8.52, 'vote_count': 33909}, {'adult': False, 'backdrop_path': '/90ez6ArvpO8bvpyIngBuwXOqJm5.jpg', 'genre_ids': [35, 18, 10749], 'id': 19404, 'original_language': 'hi', 'original_title': 'दिलवाले दुल्हनिया ले जायेंगे', 'overview': 'Raj is a rich, carefree, happy-go-lucky second generation NRI. Simran is the daughter of Chaudhary Baldev Singh, who in spite of being an NRI is very strict about adherence to Indian values. Simran has left for India to be married to her childhood fiancé. Raj leaves for India with a mission at his hands, to claim his lady love under the noses of her whole family. Thus begins a saga.', 'popularity': 8.9003, 'poster_path': '/rfcy6Gd3PbFIqwZX5U8xnbv7jOc.jpg', 'release_date': '1995-10-20', 'title': 'Dilwale Dulhania Le Jayenge', 'video': False, 'vote_average': 8.5, 'vote_count': 4487}, {'adult': False, 'backdrop_path': '/amZavErrjrdgDwhsIdpWxHNenIx.jpg', 'genre_ids': [14, 18, 80], 'id': 497, 'original_language': 'en', 'original_title': 'The Green Mile', 'overview': \"A supernatural tale set on death row in a Southern prison, where gentle giant John Coffey possesses the mysterious power to heal people's ailments. When the cell block's head guard, Paul Edgecomb, recognizes Coffey's miraculous gift, he tries desperately to help stave off the condemned man's execution.\", 'popularity': 26.4187, 'poster_path': '/8VG8fDNiy50H4FedGwdSVUPoaJe.jpg', 'release_date': '1999-12-10', 'title': 'The Green Mile', 'video': False, 'vote_average': 8.505, 'vote_count': 18122}, {'adult': False, 'backdrop_path': '/hiKmpZMGZsrkA3cdce8a7Dpos1j.jpg', 'genre_ids': [35, 53, 18], 'id': 496243, 'original_language': 'ko', 'original_title': '기생충', 'overview': \"All unemployed, Ki-taek's family takes peculiar interest in the wealthy and glamorous Parks for their livelihood until they get entangled in an unexpected incident.\", 'popularity': 25.4903, 'poster_path': '/7IiTTgloJzvGI1TAYymCfbfl3vT.jpg', 'release_date': '2019-05-30', 'title': 'Parasite', 'video': False, 'vote_average': 8.499, 'vote_count': 19095}, {'adult': False, 'backdrop_path': '/suaEOtk1N1sgg2MTM7oZd2cfVp3.jpg', 'genre_ids': [53, 80], 'id': 680, 'original_language': 'en', 'original_title': 'Pulp Fiction', 'overview': \"A burger-loving hit man, his philosophical partner, a drug-addled gangster's moll and a washed-up boxer converge in this sprawling, comedic crime caper. Their adventures unfurl in three stories that ingeniously trip back and forth in time.\", 'popularity': 45.5618, 'poster_path': '/vQWk5YBFWF4bZaofAbv0tShwBvQ.jpg', 'release_date': '1994-09-10', 'title': 'Pulp Fiction', 'video': False, 'vote_average': 8.489, 'vote_count': 28709}, {'adult': False, 'backdrop_path': '/2u7zbn8EudG6kLlBzUYqP8RyFU4.jpg', 'genre_ids': [12, 14, 28], 'id': 122, 'original_language': 'en', 'original_title': 'The Lord of the Rings: The Return of the King', 'overview': 'As armies mass for a final battle that will decide the fate of the world--and powerful, ancient forces of Light and Dark compete to determine the outcome--one member of the Fellowship of the Ring is revealed as the noble heir to the throne of the Kings of Men. Yet, the sole hope for triumph over evil lies with a brave hobbit, Frodo, who, accompanied by his loyal friend Sam and the hideous, wretched Gollum, ventures deep into the very dark heart of Mordor on his seemingly impossible quest to destroy the Ring of Power.\\u200b', 'popularity': 17.9119, 'poster_path': '/rCzpDGLbOoPwLjy3OAm5NUPOTrC.jpg', 'release_date': '2003-12-17', 'title': 'The Lord of the Rings: The Return of the King', 'video': False, 'vote_average': 8.485, 'vote_count': 25121}, {'adult': False, 'backdrop_path': '/8x9iKH8kWA0zdkgNdpAew7OstYe.jpg', 'genre_ids': [16, 10749, 18], 'id': 372058, 'original_language': 'ja', 'original_title': '君の名は。', 'overview': 'High schoolers Mitsuha and Taki are complete strangers living separate lives. But one night, they suddenly switch places. Mitsuha wakes up in Taki’s body, and he in hers. This bizarre occurrence continues to happen randomly, and the two must adjust their lives around each other.', 'popularity': 29.259, 'poster_path': '/8GJsy7w7frGquw1cy9jasOGNNI1.jpg', 'release_date': '2016-08-26', 'title': 'Your Name.', 'video': False, 'vote_average': 8.483, 'vote_count': 11794}, {'adult': False, 'backdrop_path': '/tlEFuIlaxRPXIYVHXbOSAMCfWqk.jpg', 'genre_ids': [35, 18, 10749], 'id': 13, 'original_language': 'en', 'original_title': 'Forrest Gump', 'overview': 'A man with a low IQ has accomplished great things in his life and been present during significant historic events—in each case, far exceeding what anyone imagined he could do. But despite all he has achieved, his one true love eludes him.', 'popularity': 20.4782, 'poster_path': '/arw2vcBveWOVZr6pxd9XTd1TdQa.jpg', 'release_date': '1994-06-23', 'title': 'Forrest Gump', 'video': False, 'vote_average': 8.468, 'vote_count': 28254}, {'adult': False, 'backdrop_path': '/x4biAVdPVCghBlsVIzB6NmbghIz.jpg', 'genre_ids': [37], 'id': 429, 'original_language': 'it', 'original_title': 'Il buono, il brutto, il cattivo', 'overview': 'While the Civil War rages on between the Union and the Confederacy, three men – a quiet loner, a ruthless hitman, and a Mexican bandit – comb the American Southwest in search of a strongbox containing $200,000 in stolen gold.', 'popularity': 28.0152, 'poster_path': '/bX2xnavhMYjWDoZp1VM6VnU1xwe.jpg', 'release_date': '1966-12-22', 'title': 'The Good, the Bad and the Ugly', 'video': False, 'vote_average': 8.462, 'vote_count': 9004}, {'adult': False, 'backdrop_path': '/l33oR0mnvf20avWyIMxW02EtQxn.jpg', 'genre_ids': [12, 18, 878], 'id': 157336, 'original_language': 'en', 'original_title': 'Interstellar', 'overview': 'The adventures of a group of explorers who make use of a newly discovered wormhole to surpass the limitations on human space travel and conquer the vast distances involved in an interstellar voyage.', 'popularity': 35.4099, 'poster_path': '/gEU2QniE6E77NI6lCU6MxlNBvIx.jpg', 'release_date': '2014-11-05', 'title': 'Interstellar', 'video': False, 'vote_average': 8.455, 'vote_count': 37220}, {'adult': False, 'backdrop_path': '/7TF4p86ZafnxFuNqWdhpHXFO244.jpg', 'genre_ids': [18, 80], 'id': 769, 'original_language': 'en', 'original_title': 'GoodFellas', 'overview': 'The true story of Henry Hill, a half-Irish, half-Sicilian Brooklyn kid who is adopted by neighbourhood gangsters at an early age and climbs the ranks of a Mafia family under the guidance of Jimmy Conway.', 'popularity': 30.6003, 'poster_path': '/aKuFiU82s5ISJpGZp7YkIr3kCUd.jpg', 'release_date': '1990-09-12', 'title': 'GoodFellas', 'video': False, 'vote_average': 8.455, 'vote_count': 13399}, {'adult': False, 'backdrop_path': '/sJNNMCc6B7KZIY3LH3JMYJJNH5j.jpg', 'genre_ids': [28, 18], 'id': 346, 'original_language': 'ja', 'original_title': '七人の侍', 'overview': \"A samurai answers a village's request for protection after he falls on hard times. The town needs protection from bandits, so the samurai gathers six others to help him teach the people how to defend themselves, and the villagers provide the soldiers with food.\", 'popularity': 9.735, 'poster_path': '/8OKmBV5BUFzmozIC3pPWKHy17kx.jpg', 'release_date': '1954-04-26', 'title': 'Seven Samurai', 'video': False, 'vote_average': 8.455, 'vote_count': 3899}, {'adult': False, 'backdrop_path': '/tDFvXn4tane9lUvFAFAUkMylwSr.jpg', 'genre_ids': [16, 18, 10752], 'id': 12477, 'original_language': 'ja', 'original_title': '火垂るの墓', 'overview': 'In the final months of World War II, 14-year-old Seita and his sister Setsuko are orphaned when their mother is killed during an air raid in Kobe, Japan. After a falling out with their aunt, they move into an abandoned bomb shelter. With no surviving relatives and their emergency rations depleted, Seita and Setsuko struggle to survive.', 'popularity': 0.0083, 'poster_path': '/k9tv1rXZbOhH7eiCk378x61kNQ1.jpg', 'release_date': '1988-04-16', 'title': 'Grave of the Fireflies', 'video': False, 'vote_average': 8.449, 'vote_count': 5907}, {'adult': False, 'backdrop_path': '/6aNKD81RHR1DqUUa8kOZ1TBY1Lp.jpg', 'genre_ids': [35, 18], 'id': 637, 'original_language': 'it', 'original_title': 'La vita è bella', 'overview': 'A touching story of an Italian book seller of Jewish ancestry who lives in his own little fairy tale. His creative and happy life would come to an abrupt halt when his entire family is deported to a concentration camp during World War II. While locked up he tries to convince his son that the whole thing is just a game.', 'popularity': 14.261, 'poster_path': '/74hLDKjD5aGYOotO6esUVaeISa2.jpg', 'release_date': '1997-12-20', 'title': 'Life Is Beautiful', 'video': False, 'vote_average': 8.448, 'vote_count': 13388}]\n"
          ]
        }
      ],
      "source": [
        "print(response.json())\n",
        "#response has page , results\n",
        "print(response.json()['results'])\n"
      ]
    },
    {
      "cell_type": "code",
      "execution_count": 10,
      "metadata": {
        "colab": {
          "base_uri": "https://localhost:8080/",
          "height": 206
        },
        "id": "K6RtYn6fSwb6",
        "outputId": "e924361c-fba6-416d-b4bb-f5892adce79d"
      },
      "outputs": [
        {
          "data": {
            "application/vnd.google.colaboratory.intrinsic+json": {
              "summary": "{\n  \"name\": \"dataset_sequence\",\n  \"rows\": 20,\n  \"fields\": [\n    {\n      \"column\": \"id\",\n      \"properties\": {\n        \"dtype\": \"number\",\n        \"std\": 136399,\n        \"min\": 13,\n        \"max\": 496243,\n        \"num_unique_values\": 20,\n        \"samples\": [\n          278,\n          346,\n          157336\n        ],\n        \"semantic_type\": \"\",\n        \"description\": \"\"\n      }\n    },\n    {\n      \"column\": \"title\",\n      \"properties\": {\n        \"dtype\": \"string\",\n        \"num_unique_values\": 20,\n        \"samples\": [\n          \"The Shawshank Redemption\",\n          \"Seven Samurai\",\n          \"Interstellar\"\n        ],\n        \"semantic_type\": \"\",\n        \"description\": \"\"\n      }\n    },\n    {\n      \"column\": \"overview\",\n      \"properties\": {\n        \"dtype\": \"string\",\n        \"num_unique_values\": 20,\n        \"samples\": [\n          \"Imprisoned in the 1940s for the double murder of his wife and her lover, upstanding banker Andy Dufresne begins a new life at the Shawshank prison, where he puts his accounting skills to work for an amoral warden. During his long stretch in prison, Dufresne comes to be admired by the other inmates -- including an older prisoner named Red -- for his integrity and unquenchable sense of hope.\",\n          \"A samurai answers a village's request for protection after he falls on hard times. The town needs protection from bandits, so the samurai gathers six others to help him teach the people how to defend themselves, and the villagers provide the soldiers with food.\",\n          \"The adventures of a group of explorers who make use of a newly discovered wormhole to surpass the limitations on human space travel and conquer the vast distances involved in an interstellar voyage.\"\n        ],\n        \"semantic_type\": \"\",\n        \"description\": \"\"\n      }\n    },\n    {\n      \"column\": \"release_date\",\n      \"properties\": {\n        \"dtype\": \"object\",\n        \"num_unique_values\": 20,\n        \"samples\": [\n          \"1994-09-23\",\n          \"1954-04-26\",\n          \"2014-11-05\"\n        ],\n        \"semantic_type\": \"\",\n        \"description\": \"\"\n      }\n    },\n    {\n      \"column\": \"popularity\",\n      \"properties\": {\n        \"dtype\": \"number\",\n        \"std\": 10.816719159974673,\n        \"min\": 0.0083,\n        \"max\": 45.5618,\n        \"num_unique_values\": 20,\n        \"samples\": [\n          29.8924,\n          9.735,\n          35.4099\n        ],\n        \"semantic_type\": \"\",\n        \"description\": \"\"\n      }\n    },\n    {\n      \"column\": \"vote_average\",\n      \"properties\": {\n        \"dtype\": \"number\",\n        \"std\": 0.073299152720026,\n        \"min\": 8.448,\n        \"max\": 8.71,\n        \"num_unique_values\": 18,\n        \"samples\": [\n          8.71,\n          8.686,\n          8.505\n        ],\n        \"semantic_type\": \"\",\n        \"description\": \"\"\n      }\n    },\n    {\n      \"column\": \"vote_count\",\n      \"properties\": {\n        \"dtype\": \"number\",\n        \"std\": 9759,\n        \"min\": 3899,\n        \"max\": 37220,\n        \"num_unique_values\": 20,\n        \"samples\": [\n          28374,\n          3899,\n          37220\n        ],\n        \"semantic_type\": \"\",\n        \"description\": \"\"\n      }\n    }\n  ]\n}",
              "type": "dataframe",
              "variable_name": "dataset_sequence"
            },
            "text/html": [
              "\n",
              "  <div id=\"df-d03aaf92-eca8-4c8e-a0fc-90ed791f036c\" class=\"colab-df-container\">\n",
              "    <div>\n",
              "<style scoped>\n",
              "    .dataframe tbody tr th:only-of-type {\n",
              "        vertical-align: middle;\n",
              "    }\n",
              "\n",
              "    .dataframe tbody tr th {\n",
              "        vertical-align: top;\n",
              "    }\n",
              "\n",
              "    .dataframe thead th {\n",
              "        text-align: right;\n",
              "    }\n",
              "</style>\n",
              "<table border=\"1\" class=\"dataframe\">\n",
              "  <thead>\n",
              "    <tr style=\"text-align: right;\">\n",
              "      <th></th>\n",
              "      <th>id</th>\n",
              "      <th>title</th>\n",
              "      <th>overview</th>\n",
              "      <th>release_date</th>\n",
              "      <th>popularity</th>\n",
              "      <th>vote_average</th>\n",
              "      <th>vote_count</th>\n",
              "    </tr>\n",
              "  </thead>\n",
              "  <tbody>\n",
              "    <tr>\n",
              "      <th>0</th>\n",
              "      <td>278</td>\n",
              "      <td>The Shawshank Redemption</td>\n",
              "      <td>Imprisoned in the 1940s for the double murder ...</td>\n",
              "      <td>1994-09-23</td>\n",
              "      <td>29.8924</td>\n",
              "      <td>8.710</td>\n",
              "      <td>28374</td>\n",
              "    </tr>\n",
              "    <tr>\n",
              "      <th>1</th>\n",
              "      <td>238</td>\n",
              "      <td>The Godfather</td>\n",
              "      <td>Spanning the years 1945 to 1955, a chronicle o...</td>\n",
              "      <td>1972-03-14</td>\n",
              "      <td>38.6671</td>\n",
              "      <td>8.686</td>\n",
              "      <td>21491</td>\n",
              "    </tr>\n",
              "    <tr>\n",
              "      <th>2</th>\n",
              "      <td>240</td>\n",
              "      <td>The Godfather Part II</td>\n",
              "      <td>In the continuing saga of the Corleone crime f...</td>\n",
              "      <td>1974-12-20</td>\n",
              "      <td>15.6755</td>\n",
              "      <td>8.570</td>\n",
              "      <td>12985</td>\n",
              "    </tr>\n",
              "    <tr>\n",
              "      <th>3</th>\n",
              "      <td>424</td>\n",
              "      <td>Schindler's List</td>\n",
              "      <td>The true story of how businessman Oskar Schind...</td>\n",
              "      <td>1993-12-15</td>\n",
              "      <td>29.2438</td>\n",
              "      <td>8.564</td>\n",
              "      <td>16463</td>\n",
              "    </tr>\n",
              "    <tr>\n",
              "      <th>4</th>\n",
              "      <td>389</td>\n",
              "      <td>12 Angry Men</td>\n",
              "      <td>The defense and the prosecution have rested an...</td>\n",
              "      <td>1957-04-10</td>\n",
              "      <td>18.8647</td>\n",
              "      <td>8.548</td>\n",
              "      <td>9153</td>\n",
              "    </tr>\n",
              "  </tbody>\n",
              "</table>\n",
              "</div>\n",
              "    <div class=\"colab-df-buttons\">\n",
              "\n",
              "  <div class=\"colab-df-container\">\n",
              "    <button class=\"colab-df-convert\" onclick=\"convertToInteractive('df-d03aaf92-eca8-4c8e-a0fc-90ed791f036c')\"\n",
              "            title=\"Convert this dataframe to an interactive table.\"\n",
              "            style=\"display:none;\">\n",
              "\n",
              "  <svg xmlns=\"http://www.w3.org/2000/svg\" height=\"24px\" viewBox=\"0 -960 960 960\">\n",
              "    <path d=\"M120-120v-720h720v720H120Zm60-500h600v-160H180v160Zm220 220h160v-160H400v160Zm0 220h160v-160H400v160ZM180-400h160v-160H180v160Zm440 0h160v-160H620v160ZM180-180h160v-160H180v160Zm440 0h160v-160H620v160Z\"/>\n",
              "  </svg>\n",
              "    </button>\n",
              "\n",
              "  <style>\n",
              "    .colab-df-container {\n",
              "      display:flex;\n",
              "      gap: 12px;\n",
              "    }\n",
              "\n",
              "    .colab-df-convert {\n",
              "      background-color: #E8F0FE;\n",
              "      border: none;\n",
              "      border-radius: 50%;\n",
              "      cursor: pointer;\n",
              "      display: none;\n",
              "      fill: #1967D2;\n",
              "      height: 32px;\n",
              "      padding: 0 0 0 0;\n",
              "      width: 32px;\n",
              "    }\n",
              "\n",
              "    .colab-df-convert:hover {\n",
              "      background-color: #E2EBFA;\n",
              "      box-shadow: 0px 1px 2px rgba(60, 64, 67, 0.3), 0px 1px 3px 1px rgba(60, 64, 67, 0.15);\n",
              "      fill: #174EA6;\n",
              "    }\n",
              "\n",
              "    .colab-df-buttons div {\n",
              "      margin-bottom: 4px;\n",
              "    }\n",
              "\n",
              "    [theme=dark] .colab-df-convert {\n",
              "      background-color: #3B4455;\n",
              "      fill: #D2E3FC;\n",
              "    }\n",
              "\n",
              "    [theme=dark] .colab-df-convert:hover {\n",
              "      background-color: #434B5C;\n",
              "      box-shadow: 0px 1px 3px 1px rgba(0, 0, 0, 0.15);\n",
              "      filter: drop-shadow(0px 1px 2px rgba(0, 0, 0, 0.3));\n",
              "      fill: #FFFFFF;\n",
              "    }\n",
              "  </style>\n",
              "\n",
              "    <script>\n",
              "      const buttonEl =\n",
              "        document.querySelector('#df-d03aaf92-eca8-4c8e-a0fc-90ed791f036c button.colab-df-convert');\n",
              "      buttonEl.style.display =\n",
              "        google.colab.kernel.accessAllowed ? 'block' : 'none';\n",
              "\n",
              "      async function convertToInteractive(key) {\n",
              "        const element = document.querySelector('#df-d03aaf92-eca8-4c8e-a0fc-90ed791f036c');\n",
              "        const dataTable =\n",
              "          await google.colab.kernel.invokeFunction('convertToInteractive',\n",
              "                                                    [key], {});\n",
              "        if (!dataTable) return;\n",
              "\n",
              "        const docLinkHtml = 'Like what you see? Visit the ' +\n",
              "          '<a target=\"_blank\" href=https://colab.research.google.com/notebooks/data_table.ipynb>data table notebook</a>'\n",
              "          + ' to learn more about interactive tables.';\n",
              "        element.innerHTML = '';\n",
              "        dataTable['output_type'] = 'display_data';\n",
              "        await google.colab.output.renderOutput(dataTable, element);\n",
              "        const docLink = document.createElement('div');\n",
              "        docLink.innerHTML = docLinkHtml;\n",
              "        element.appendChild(docLink);\n",
              "      }\n",
              "    </script>\n",
              "  </div>\n",
              "\n",
              "\n",
              "    <div id=\"df-7ca5a756-acb9-4fa1-b476-554277f148b7\">\n",
              "      <button class=\"colab-df-quickchart\" onclick=\"quickchart('df-7ca5a756-acb9-4fa1-b476-554277f148b7')\"\n",
              "                title=\"Suggest charts\"\n",
              "                style=\"display:none;\">\n",
              "\n",
              "<svg xmlns=\"http://www.w3.org/2000/svg\" height=\"24px\"viewBox=\"0 0 24 24\"\n",
              "     width=\"24px\">\n",
              "    <g>\n",
              "        <path d=\"M19 3H5c-1.1 0-2 .9-2 2v14c0 1.1.9 2 2 2h14c1.1 0 2-.9 2-2V5c0-1.1-.9-2-2-2zM9 17H7v-7h2v7zm4 0h-2V7h2v10zm4 0h-2v-4h2v4z\"/>\n",
              "    </g>\n",
              "</svg>\n",
              "      </button>\n",
              "\n",
              "<style>\n",
              "  .colab-df-quickchart {\n",
              "      --bg-color: #E8F0FE;\n",
              "      --fill-color: #1967D2;\n",
              "      --hover-bg-color: #E2EBFA;\n",
              "      --hover-fill-color: #174EA6;\n",
              "      --disabled-fill-color: #AAA;\n",
              "      --disabled-bg-color: #DDD;\n",
              "  }\n",
              "\n",
              "  [theme=dark] .colab-df-quickchart {\n",
              "      --bg-color: #3B4455;\n",
              "      --fill-color: #D2E3FC;\n",
              "      --hover-bg-color: #434B5C;\n",
              "      --hover-fill-color: #FFFFFF;\n",
              "      --disabled-bg-color: #3B4455;\n",
              "      --disabled-fill-color: #666;\n",
              "  }\n",
              "\n",
              "  .colab-df-quickchart {\n",
              "    background-color: var(--bg-color);\n",
              "    border: none;\n",
              "    border-radius: 50%;\n",
              "    cursor: pointer;\n",
              "    display: none;\n",
              "    fill: var(--fill-color);\n",
              "    height: 32px;\n",
              "    padding: 0;\n",
              "    width: 32px;\n",
              "  }\n",
              "\n",
              "  .colab-df-quickchart:hover {\n",
              "    background-color: var(--hover-bg-color);\n",
              "    box-shadow: 0 1px 2px rgba(60, 64, 67, 0.3), 0 1px 3px 1px rgba(60, 64, 67, 0.15);\n",
              "    fill: var(--button-hover-fill-color);\n",
              "  }\n",
              "\n",
              "  .colab-df-quickchart-complete:disabled,\n",
              "  .colab-df-quickchart-complete:disabled:hover {\n",
              "    background-color: var(--disabled-bg-color);\n",
              "    fill: var(--disabled-fill-color);\n",
              "    box-shadow: none;\n",
              "  }\n",
              "\n",
              "  .colab-df-spinner {\n",
              "    border: 2px solid var(--fill-color);\n",
              "    border-color: transparent;\n",
              "    border-bottom-color: var(--fill-color);\n",
              "    animation:\n",
              "      spin 1s steps(1) infinite;\n",
              "  }\n",
              "\n",
              "  @keyframes spin {\n",
              "    0% {\n",
              "      border-color: transparent;\n",
              "      border-bottom-color: var(--fill-color);\n",
              "      border-left-color: var(--fill-color);\n",
              "    }\n",
              "    20% {\n",
              "      border-color: transparent;\n",
              "      border-left-color: var(--fill-color);\n",
              "      border-top-color: var(--fill-color);\n",
              "    }\n",
              "    30% {\n",
              "      border-color: transparent;\n",
              "      border-left-color: var(--fill-color);\n",
              "      border-top-color: var(--fill-color);\n",
              "      border-right-color: var(--fill-color);\n",
              "    }\n",
              "    40% {\n",
              "      border-color: transparent;\n",
              "      border-right-color: var(--fill-color);\n",
              "      border-top-color: var(--fill-color);\n",
              "    }\n",
              "    60% {\n",
              "      border-color: transparent;\n",
              "      border-right-color: var(--fill-color);\n",
              "    }\n",
              "    80% {\n",
              "      border-color: transparent;\n",
              "      border-right-color: var(--fill-color);\n",
              "      border-bottom-color: var(--fill-color);\n",
              "    }\n",
              "    90% {\n",
              "      border-color: transparent;\n",
              "      border-bottom-color: var(--fill-color);\n",
              "    }\n",
              "  }\n",
              "</style>\n",
              "\n",
              "      <script>\n",
              "        async function quickchart(key) {\n",
              "          const quickchartButtonEl =\n",
              "            document.querySelector('#' + key + ' button');\n",
              "          quickchartButtonEl.disabled = true;  // To prevent multiple clicks.\n",
              "          quickchartButtonEl.classList.add('colab-df-spinner');\n",
              "          try {\n",
              "            const charts = await google.colab.kernel.invokeFunction(\n",
              "                'suggestCharts', [key], {});\n",
              "          } catch (error) {\n",
              "            console.error('Error during call to suggestCharts:', error);\n",
              "          }\n",
              "          quickchartButtonEl.classList.remove('colab-df-spinner');\n",
              "          quickchartButtonEl.classList.add('colab-df-quickchart-complete');\n",
              "        }\n",
              "        (() => {\n",
              "          let quickchartButtonEl =\n",
              "            document.querySelector('#df-7ca5a756-acb9-4fa1-b476-554277f148b7 button');\n",
              "          quickchartButtonEl.style.display =\n",
              "            google.colab.kernel.accessAllowed ? 'block' : 'none';\n",
              "        })();\n",
              "      </script>\n",
              "    </div>\n",
              "\n",
              "    </div>\n",
              "  </div>\n"
            ],
            "text/plain": [
              "    id                     title  \\\n",
              "0  278  The Shawshank Redemption   \n",
              "1  238             The Godfather   \n",
              "2  240     The Godfather Part II   \n",
              "3  424          Schindler's List   \n",
              "4  389              12 Angry Men   \n",
              "\n",
              "                                            overview release_date  popularity  \\\n",
              "0  Imprisoned in the 1940s for the double murder ...   1994-09-23     29.8924   \n",
              "1  Spanning the years 1945 to 1955, a chronicle o...   1972-03-14     38.6671   \n",
              "2  In the continuing saga of the Corleone crime f...   1974-12-20     15.6755   \n",
              "3  The true story of how businessman Oskar Schind...   1993-12-15     29.2438   \n",
              "4  The defense and the prosecution have rested an...   1957-04-10     18.8647   \n",
              "\n",
              "   vote_average  vote_count  \n",
              "0         8.710       28374  \n",
              "1         8.686       21491  \n",
              "2         8.570       12985  \n",
              "3         8.564       16463  \n",
              "4         8.548        9153  "
            ]
          },
          "execution_count": 10,
          "metadata": {},
          "output_type": "execute_result"
        }
      ],
      "source": [
        "temp_data=response.json()['results']\n",
        "dataset_df=pd.DataFrame(temp_data,index=range(1,len(temp_data)+1))\n",
        "dataset_sequence=pd.DataFrame(temp_data)[['id','title','overview','release_date','popularity','vote_average','vote_count']]\n",
        "dataset_df.head()\n",
        "dataset_sequence.head()"
      ]
    },
    {
      "cell_type": "code",
      "execution_count": 15,
      "metadata": {
        "colab": {
          "base_uri": "https://localhost:8080/",
          "height": 81
        },
        "id": "Gt1idTh7UWhu",
        "outputId": "5ad85981-eff7-4f19-93e9-8d5c185b2c61"
      },
      "outputs": [
        {
          "data": {
            "application/vnd.google.colaboratory.intrinsic+json": {
              "repr_error": "0",
              "type": "dataframe"
            },
            "text/html": [
              "\n",
              "  <div id=\"df-9111982a-ac64-4b7c-a680-146cad7bfe6b\" class=\"colab-df-container\">\n",
              "    <div>\n",
              "<style scoped>\n",
              "    .dataframe tbody tr th:only-of-type {\n",
              "        vertical-align: middle;\n",
              "    }\n",
              "\n",
              "    .dataframe tbody tr th {\n",
              "        vertical-align: top;\n",
              "    }\n",
              "\n",
              "    .dataframe thead th {\n",
              "        text-align: right;\n",
              "    }\n",
              "</style>\n",
              "<table border=\"1\" class=\"dataframe\">\n",
              "  <thead>\n",
              "    <tr style=\"text-align: right;\">\n",
              "      <th></th>\n",
              "      <th>id</th>\n",
              "      <th>title</th>\n",
              "      <th>overview</th>\n",
              "      <th>release_date</th>\n",
              "      <th>popularity</th>\n",
              "      <th>vote_average</th>\n",
              "      <th>vote_count</th>\n",
              "    </tr>\n",
              "  </thead>\n",
              "  <tbody>\n",
              "    <tr>\n",
              "      <th>1</th>\n",
              "      <td>238</td>\n",
              "      <td>The Godfather</td>\n",
              "      <td>Spanning the years 1945 to 1955, a chronicle o...</td>\n",
              "      <td>1972-03-14</td>\n",
              "      <td>38.6671</td>\n",
              "      <td>8.686</td>\n",
              "      <td>21491</td>\n",
              "    </tr>\n",
              "  </tbody>\n",
              "</table>\n",
              "</div>\n",
              "    <div class=\"colab-df-buttons\">\n",
              "\n",
              "  <div class=\"colab-df-container\">\n",
              "    <button class=\"colab-df-convert\" onclick=\"convertToInteractive('df-9111982a-ac64-4b7c-a680-146cad7bfe6b')\"\n",
              "            title=\"Convert this dataframe to an interactive table.\"\n",
              "            style=\"display:none;\">\n",
              "\n",
              "  <svg xmlns=\"http://www.w3.org/2000/svg\" height=\"24px\" viewBox=\"0 -960 960 960\">\n",
              "    <path d=\"M120-120v-720h720v720H120Zm60-500h600v-160H180v160Zm220 220h160v-160H400v160Zm0 220h160v-160H400v160ZM180-400h160v-160H180v160Zm440 0h160v-160H620v160ZM180-180h160v-160H180v160Zm440 0h160v-160H620v160Z\"/>\n",
              "  </svg>\n",
              "    </button>\n",
              "\n",
              "  <style>\n",
              "    .colab-df-container {\n",
              "      display:flex;\n",
              "      gap: 12px;\n",
              "    }\n",
              "\n",
              "    .colab-df-convert {\n",
              "      background-color: #E8F0FE;\n",
              "      border: none;\n",
              "      border-radius: 50%;\n",
              "      cursor: pointer;\n",
              "      display: none;\n",
              "      fill: #1967D2;\n",
              "      height: 32px;\n",
              "      padding: 0 0 0 0;\n",
              "      width: 32px;\n",
              "    }\n",
              "\n",
              "    .colab-df-convert:hover {\n",
              "      background-color: #E2EBFA;\n",
              "      box-shadow: 0px 1px 2px rgba(60, 64, 67, 0.3), 0px 1px 3px 1px rgba(60, 64, 67, 0.15);\n",
              "      fill: #174EA6;\n",
              "    }\n",
              "\n",
              "    .colab-df-buttons div {\n",
              "      margin-bottom: 4px;\n",
              "    }\n",
              "\n",
              "    [theme=dark] .colab-df-convert {\n",
              "      background-color: #3B4455;\n",
              "      fill: #D2E3FC;\n",
              "    }\n",
              "\n",
              "    [theme=dark] .colab-df-convert:hover {\n",
              "      background-color: #434B5C;\n",
              "      box-shadow: 0px 1px 3px 1px rgba(0, 0, 0, 0.15);\n",
              "      filter: drop-shadow(0px 1px 2px rgba(0, 0, 0, 0.3));\n",
              "      fill: #FFFFFF;\n",
              "    }\n",
              "  </style>\n",
              "\n",
              "    <script>\n",
              "      const buttonEl =\n",
              "        document.querySelector('#df-9111982a-ac64-4b7c-a680-146cad7bfe6b button.colab-df-convert');\n",
              "      buttonEl.style.display =\n",
              "        google.colab.kernel.accessAllowed ? 'block' : 'none';\n",
              "\n",
              "      async function convertToInteractive(key) {\n",
              "        const element = document.querySelector('#df-9111982a-ac64-4b7c-a680-146cad7bfe6b');\n",
              "        const dataTable =\n",
              "          await google.colab.kernel.invokeFunction('convertToInteractive',\n",
              "                                                    [key], {});\n",
              "        if (!dataTable) return;\n",
              "\n",
              "        const docLinkHtml = 'Like what you see? Visit the ' +\n",
              "          '<a target=\"_blank\" href=https://colab.research.google.com/notebooks/data_table.ipynb>data table notebook</a>'\n",
              "          + ' to learn more about interactive tables.';\n",
              "        element.innerHTML = '';\n",
              "        dataTable['output_type'] = 'display_data';\n",
              "        await google.colab.output.renderOutput(dataTable, element);\n",
              "        const docLink = document.createElement('div');\n",
              "        docLink.innerHTML = docLinkHtml;\n",
              "        element.appendChild(docLink);\n",
              "      }\n",
              "    </script>\n",
              "  </div>\n",
              "\n",
              "\n",
              "    </div>\n",
              "  </div>\n"
            ],
            "text/plain": [
              "    id          title                                           overview  \\\n",
              "1  238  The Godfather  Spanning the years 1945 to 1955, a chronicle o...   \n",
              "\n",
              "  release_date  popularity  vote_average  vote_count  \n",
              "1   1972-03-14     38.6671         8.686       21491  "
            ]
          },
          "execution_count": 15,
          "metadata": {},
          "output_type": "execute_result"
        }
      ],
      "source": [
        "dataset_sequence.shape\n",
        "dataset_sequence.head()\n",
        "dataset_sequence.tail()\n",
        "dataset_sequence.sample()#default=1) row random data"
      ]
    },
    {
      "cell_type": "code",
      "execution_count": 16,
      "metadata": {
        "colab": {
          "base_uri": "https://localhost:8080/"
        },
        "id": "8qXw0yu2UueX",
        "outputId": "6bc33b61-7f0d-4821-86d2-391e6cb1e9c0"
      },
      "outputs": [
        {
          "name": "stdout",
          "output_type": "stream",
          "text": [
            "<class 'pandas.core.frame.DataFrame'>\n",
            "RangeIndex: 20 entries, 0 to 19\n",
            "Data columns (total 7 columns):\n",
            " #   Column        Non-Null Count  Dtype  \n",
            "---  ------        --------------  -----  \n",
            " 0   id            20 non-null     int64  \n",
            " 1   title         20 non-null     object \n",
            " 2   overview      20 non-null     object \n",
            " 3   release_date  20 non-null     object \n",
            " 4   popularity    20 non-null     float64\n",
            " 5   vote_average  20 non-null     float64\n",
            " 6   vote_count    20 non-null     int64  \n",
            "dtypes: float64(2), int64(2), object(3)\n",
            "memory usage: 1.2+ KB\n",
            "None\n",
            "                  id  popularity  vote_average    vote_count\n",
            "count      20.000000   20.000000     20.000000     20.000000\n",
            "mean    53143.200000   23.607055      8.514350  17897.600000\n",
            "std    136399.118798   10.816719      0.073299   9759.938451\n",
            "min        13.000000    0.008300      8.448000   3899.000000\n",
            "25%       239.500000   17.352800      8.460250  11133.750000\n",
            "50%       426.500000   25.862800      8.494000  16820.500000\n",
            "75%      3696.000000   29.417350      8.539000  25904.250000\n",
            "max    496243.000000   45.561800      8.710000  37220.000000\n"
          ]
        }
      ],
      "source": [
        "print(dataset_sequence.info())#column n details\n",
        "print(dataset_sequence.describe())#math all detail"
      ]
    },
    {
      "cell_type": "code",
      "execution_count": 20,
      "metadata": {
        "colab": {
          "base_uri": "https://localhost:8080/"
        },
        "id": "Q-ropj0GVD8J",
        "outputId": "f1a00d6e-c9e5-4b78-8518-4ae1a19744dc"
      },
      "outputs": [
        {
          "data": {
            "text/plain": [
              "np.int64(0)"
            ]
          },
          "execution_count": 20,
          "metadata": {},
          "output_type": "execute_result"
        }
      ],
      "source": [
        "dataset_sequence.isnull()\n",
        "dataset_sequence.isnull().sum()\n",
        "dataset_sequence.dropna()\n",
        "#dataset_sequence.isnan().sum() error\n",
        "dataset_sequence.duplicated().sum()\n",
        "dataset_sequence.drop_duplicates()\n",
        "\n"
      ]
    },
    {
      "cell_type": "code",
      "execution_count": 22,
      "metadata": {
        "colab": {
          "base_uri": "https://localhost:8080/"
        },
        "id": "Q__33MWJVsmb",
        "outputId": "b5069c0f-f28d-46d1-cf64-1e73324c71dd"
      },
      "outputs": [
        {
          "name": "stdout",
          "output_type": "stream",
          "text": [
            "range of date 2019-05-30 1954-04-26\n"
          ]
        }
      ],
      "source": [
        "#per column how to find n draw inshights\n",
        "dataset_sequence['release_date'].min()\n",
        "dataset_sequence['release_date'].max()\n",
        "print(\"range of date\",dataset_sequence['release_date'].max(),dataset_sequence['release_date'].min())"
      ]
    },
    {
      "cell_type": "markdown",
      "metadata": {
        "id": "z7mL2MzVW-AI"
      },
      "source": [
        "scatter plot\n",
        "bar plot\n",
        "box plot\n",
        "dist plot\n",
        "heat map\n",
        "pairplot\n",
        "corr matrix\n",
        "line plot for two or more columns joint behaviour review"
      ]
    },
    {
      "cell_type": "markdown",
      "metadata": {
        "id": "WkUCAq05WNLs"
      },
      "source": [
        "countplot\n",
        "piechart\n",
        "dist n hist plot\n",
        "box plot\n",
        "\n",
        "to analyse single columns behaviour"
      ]
    },
    {
      "cell_type": "code",
      "execution_count": null,
      "metadata": {},
      "outputs": [],
      "source": [
        "#now SCALING THE DATASET TECHNIQUES !!!\n",
        "https://www.kaggle.com/code/judeoluya/masterclass-1-a-comprehensive-guide-for-eda#1.-Why-EDA-Is-Crucial-for-Every-Data-Scientist"
      ]
    },
    {
      "cell_type": "code",
      "execution_count": null,
      "metadata": {
        "id": "E84oQyW3W62j"
      },
      "outputs": [],
      "source": [
        "#now just do train test split for dataset\n",
        "#complete datset dataset_sequence\n",
        "from sklearn.model_selection import train_test_split\n",
        "Y=dataset_sequence[\"review\"]\n",
        "X=y = dataset_sequence.iloc[:,-1]\n",
        "# Assuming X contains features and y contains labels\n",
        "X_train, X_test, y_train, y_test = train_test_split(X, Y, test_size=0.2, random_state=42)\n"
      ]
    },
    {
      "cell_type": "code",
      "execution_count": null,
      "metadata": {},
      "outputs": [],
      "source": [
        "#handle missing data \n",
        "#this is also essential for feature engineering \n",
        "#IMPUTATION???Filling\n",
        "\n",
        "\n",
        "#handle missing ?techniques?\n",
        "\n",
        "1. remove the full instance , the row #use is missing data=0-5%\n",
        "2. Imputation , fill it "
      ]
    },
    {
      "cell_type": "code",
      "execution_count": null,
      "metadata": {},
      "outputs": [],
      "source": [
        "df.isnull().mean()*100 #percentage of data missing \n",
        "#total-->mean-->%\n",
        "\n",
        "\n",
        "cols = [var for var in df.columns if df[var].isnull().mean() < 0.05 and df[var].isnull().mean() > 0]\n",
        "\n",
        "cols"
      ]
    },
    {
      "cell_type": "code",
      "execution_count": null,
      "metadata": {},
      "outputs": [],
      "source": [
        "df[cols].sample(5)\n",
        "#check the percentage change \n",
        "len(df[cols].dropna()) / len(df)#how much percentage of data is removed this should be 5%\n",
        "\n"
      ]
    },
    {
      "cell_type": "code",
      "execution_count": null,
      "metadata": {},
      "outputs": [],
      "source": [
        "\n",
        "new_df = df[cols].dropna()\n",
        "#but in this machine still do not know how to handle missing data during testing or when model is deployed \n",
        "\n"
      ]
    },
    {
      "cell_type": "code",
      "execution_count": null,
      "metadata": {},
      "outputs": [],
      "source": [
        "IMPUTATION ::: TECHNIQUES \n",
        "\n",
        ">>>univariant imputation\n",
        ">>> multivariant IMPUTATION\n",
        "\n",
        "\n",
        "\n",
        "MEAN/MEADIAN/MODE/FREQUENT_VAL/RANDOM_VAL \n",
        "\n",
        "\n",
        "MEDIAN IS BETTER FOR ALL DISTRIBUTION !!!\n",
        "DISTRIBUTION REMAINS SIMILAR \n",
        "NO NEW OUTLIER IS CREATED \n",
        "CORRELATION BETWEEN FEATURES REMAIN SIMILAR \n",
        "\n",
        "\n",
        "\n",
        "\n"
      ]
    },
    {
      "cell_type": "code",
      "execution_count": null,
      "metadata": {},
      "outputs": [],
      "source": [
        "df.isnull().mean()\n",
        "#traintestsplit \n",
        "x_train,x_test "
      ]
    },
    {
      "cell_type": "code",
      "execution_count": null,
      "metadata": {},
      "outputs": [],
      "source": [
        "mean_age = X_train['Age'].mean()\n",
        "median_age = X_train['Age'].median()\n",
        "\n",
        "mean_spent = X_train['Spent'].mean()\n",
        "median_spent = X_train['Spent'].median()\n",
        "\n",
        "x_train['Age_updated1']=x_train['Age'].fillna(median_age)\n",
        "x_train['Age_updated2']=x_train['Age'].fillna(mean_age)\n",
        "\n",
        "\n",
        "x_train['Spent_updated1'] = X_train['Spent'].fillna(median_spent)\n",
        "X_train['Spent_updated2'] = X_train['Spent'].fillna(mean_spent)"
      ]
    },
    {
      "cell_type": "code",
      "execution_count": null,
      "metadata": {},
      "outputs": [],
      "source": [
        "print('Original Age variable variance: ', X_train['Age'].var())\n",
        "print('Age Variance after median imputation: ', X_train['Age_updated1'].var())\n",
        "print('Age Variance after mean imputation: ', X_train['Age_updated2'].var())\n",
        "\n",
        "print('Original Fare variable variance: ', X_train['Spent'].var())\n",
        "print('Fare Variance after median imputation: ', X_train['Spent_updated1'].var())\n",
        "print('Fare Variance after mean imputation: ', X_train['Spent_updated2'].var())"
      ]
    },
    {
      "cell_type": "code",
      "execution_count": null,
      "metadata": {},
      "outputs": [],
      "source": [
        "x_train.corr()\n",
        "x_train.cov()\n",
        "\n",
        "X_train[['Age', 'Age_updated1', 'Age_updated2']].boxplot()"
      ]
    },
    {
      "cell_type": "code",
      "execution_count": null,
      "metadata": {},
      "outputs": [],
      "source": [
        "#shortcut\n",
        "imputer1 = SimpleImputer(strategy='median')\n",
        "imputer2 = SimpleImputer(strategy='mean')\n",
        "\n",
        "trf = ColumnTransformer([\n",
        "    ('trf1',imputer1,['Age']),\n",
        "    ('trf2',imputer2,['Spent'])\n",
        "],remainder='passthrough')\n",
        "\n",
        "trf.fit(X_train)\n",
        "\n",
        "\n",
        "#train \n",
        "\n",
        "X_train = trf.transform(X_train)\n",
        "X_test = trf.transform(X_test)"
      ]
    },
    {
      "cell_type": "code",
      "execution_count": null,
      "metadata": {},
      "outputs": [],
      "source": [
        "#categorical value to a simple NA /MISSING /-999\n",
        "\n",
        "X_train['Age_modified'] = X_train['Age'].fillna(99)\n",
        "\n",
        "#shortcut PIPELINE\n",
        "imputer1 = SimpleImputer(strategy='constant',fill_value=99)\n",
        "imputer2 = SimpleImputer(strategy='constant',fill_value=999)\n",
        "trf = ColumnTransformer([\n",
        "    ('imputer1',imputer1,['Age']),\n",
        "    ('imputer2',imputer2,['Spent'])\n",
        "],remainder='passthrough')\n",
        "\n",
        "X_train = trf.transform(X_train)\n",
        "X_test = trf.transform(X_test)\n",
        "\n",
        "#incategorical data use MOST FREQUENT !!! thats called MODE \n",
        "\n"
      ]
    },
    {
      "cell_type": "code",
      "execution_count": null,
      "metadata": {},
      "outputs": [],
      "source": [
        "#category wise graph \n",
        "df['GarageQual'].value_counts().sort_values(ascending=False).plot.bar()\n",
        "plt.xlabel('GarageQual')\n",
        "plt.ylabel('Number of houses')\n",
        "\n",
        "#random no distribution remains similar no changes !!!\n",
        "#memory is used more to see the window , covariance distrubed \n",
        "X_train['Age_imputed'][X_train['Age_imputed'].isnull()] = X_train['Age'].dropna().sample(X_train['Age'].isnull().sum()).values\n",
        "X_test['Age_imputed'][X_test['Age_imputed'].isnull()] = X_train['Age'].dropna().sample(X_test['Age'].isnull().sum()).values\n",
        "X_train['Age'].dropna().sample(X_train['Age'].isnull().sum()).values\n",
        "sns.distplot(X_train['Age'],label='Original',hist=False)\n",
        "sns.distplot(X_train['Age_imputed'],label = 'Imputed',hist=False)\n",
        "\n",
        "plt.legend()\n",
        "plt.show()\n",
        "\n",
        "si = SimpleImputer()\n",
        "\n",
        "X_train_trf2 = si.fit_transform(X_train)\n",
        "X_test_trf2 = si.transform(X_test)\n"
      ]
    },
    {
      "cell_type": "code",
      "execution_count": null,
      "metadata": {},
      "outputs": [],
      "source": [
        "knn = KNNImputer(n_neighbors=3,weights='distance')\n",
        "\n",
        "X_train_trf = knn.fit_transform(X_train)\n",
        "X_test_trf = knn.transform(X_test)\n",
        "#multivalue replacement ...\n",
        "#the missing value is replace by min distance equivalence of neighbours ...\n",
        "#knn imputer \n",
        "#more calculative approach ...\n",
        "#prodcuaction calculation increases"
      ]
    },
    {
      "cell_type": "code",
      "execution_count": null,
      "metadata": {},
      "outputs": [],
      "source": [
        "#MICE APPROACH ...\n",
        ">>NAN REPLACE WITH COL MEAN EVERY WHERE \n",
        ">>PREDICT THE MISSING VAL "
      ]
    }
  ],
  "metadata": {
    "colab": {
      "provenance": []
    },
    "kernelspec": {
      "display_name": "Python 3",
      "name": "python3"
    },
    "language_info": {
      "name": "python"
    }
  },
  "nbformat": 4,
  "nbformat_minor": 0
}
