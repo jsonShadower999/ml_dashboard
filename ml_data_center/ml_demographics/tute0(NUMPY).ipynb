{
  "cells": [
    {
      "cell_type": "code",
      "execution_count": 2,
      "metadata": {
        "colab": {
          "base_uri": "https://localhost:8080/"
        },
        "id": "F9ddtYnGhoPO",
        "outputId": "8876716a-9bae-447b-b8ac-aacb758d7049"
      },
      "outputs": [
        {
          "name": "stdout",
          "output_type": "stream",
          "text": [
            "Requirement already satisfied: numpy in /usr/local/lib/python3.11/dist-packages (2.0.2)\n"
          ]
        }
      ],
      "source": [
        "pip install numpy"
      ]
    },
    {
      "cell_type": "code",
      "execution_count": 3,
      "metadata": {
        "colab": {
          "base_uri": "https://localhost:8080/"
        },
        "id": "bDtHSCC2iEuT",
        "outputId": "e842ba23-e984-4529-a1a0-a3b9871ec7d5"
      },
      "outputs": [
        {
          "name": "stdout",
          "output_type": "stream",
          "text": [
            "(1, 3, 3)\n",
            "3\n",
            "int64\n",
            "9\n"
          ]
        }
      ],
      "source": [
        "import numpy as np\n",
        "arr_num1=np.array([[[12,23,34],[12,23,45],[7,8,9]]])\n",
        "print(arr_num1.shape)\n",
        "print(arr_num1.ndim)\n",
        "print(arr_num1.dtype)\n",
        "print(arr_num1.size)#row*col\n",
        "# (1, 3, 3)\n",
        "# 3\n",
        "# int64\n",
        "# 9"
      ]
    },
    {
      "cell_type": "markdown",
      "metadata": {
        "id": "PB9fNfrEi8JI"
      },
      "source": [
        "#creating numpy array"
      ]
    },
    {
      "cell_type": "code",
      "execution_count": 4,
      "metadata": {
        "colab": {
          "base_uri": "https://localhost:8080/"
        },
        "id": "yKpCnxFKjXN-",
        "outputId": "19b0b3a9-d73b-4eee-da21-d6a8cd5e4f85"
      },
      "outputs": [
        {
          "data": {
            "text/plain": [
              "array([0.  , 0.25, 0.5 , 0.75, 1.  ])"
            ]
          },
          "execution_count": 4,
          "metadata": {},
          "output_type": "execute_result"
        }
      ],
      "source": [
        "np.zeros((2,3))\n",
        "np.ones((2,3))\n",
        "np.eye(3)\n",
        "np.arange(0,10)\n",
        "np.arange(0,10,2)\n",
        "np.linspace(0,1,5)"
      ]
    },
    {
      "cell_type": "markdown",
      "metadata": {
        "id": "xW0r9jmJj5TZ"
      },
      "source": [
        "math compute"
      ]
    },
    {
      "cell_type": "code",
      "execution_count": 5,
      "metadata": {
        "colab": {
          "base_uri": "https://localhost:8080/"
        },
        "id": "hq2X7UB_j4H8",
        "outputId": "1eaa5356-7d52-494c-e522-771de29d78ae"
      },
      "outputs": [
        {
          "name": "stdout",
          "output_type": "stream",
          "text": [
            "sum 15\n",
            "mean 3.0\n",
            "max & min 5 1\n"
          ]
        }
      ],
      "source": [
        "arr_math=np.array([1,2,3,4,5])\n",
        "print(\"sum\",arr_math.sum() )\n",
        "print(\"variance\",np.var(arr_math,axis=0))\n",
        "print(\"mean\",arr_math.mean())\n",
        "print(\"max & min\",arr_math.max(),arr_math.min())\n",
        "print(\"nan check\",np.isnan(arr_math))\n",
        "\n",
        "import numpy as np\n",
        "\n",
        "# Create two NumPy arrays\n",
        "array1 = np.array([1, 2, 3, 4, 5])\n",
        "array2 = np.array([6, 7, 8, 9, 10])\n",
        "\n",
        "# Perform element-wise operations\n",
        "result_addition= array1 + array2\n",
        "result_subtract = array1 - array2\n",
        "result_multiply = array1 * array2\n",
        "result_divide = array1 / array2\n",
        "result_power = np.power(array1, 2)"
      ]
    },
    {
      "cell_type": "code",
      "execution_count": null,
      "metadata": {
        "id": "XAX0TVJ1vT4_"
      },
      "outputs": [],
      "source": []
    },
    {
      "cell_type": "markdown",
      "metadata": {
        "id": "sBycViufkWRz"
      },
      "source": [
        "extracting part of array"
      ]
    },
    {
      "cell_type": "code",
      "execution_count": 23,
      "metadata": {
        "colab": {
          "base_uri": "https://localhost:8080/"
        },
        "id": "7ytt0OWgkRmo",
        "outputId": "5a64946a-aeb4-4b82-c55d-729659035c9e"
      },
      "outputs": [
        {
          "name": "stdout",
          "output_type": "stream",
          "text": [
            "[22 33]\n",
            "[22 44 66 88]\n",
            "[99 88 77 66 55 44 33 22 11]\n",
            "[55 66 77 88 99]\n",
            "[22 44 66 88]\n"
          ]
        }
      ],
      "source": [
        "arr_initial=np.array([11,22,33,44,55,66,77,88,99])\n",
        "print(arr_initial[1:3])\n",
        "print(arr_initial[1::2])\n",
        "print(arr_initial[::-1])\n",
        "arr_first_half=arr_initial[:int(arr_initial.size/2)][::-1]\n",
        "arr_second_half=arr_initial[int(arr_initial.size/2):][::-2]\n",
        "\n",
        "\n",
        "arr_multid=np.array([[1, 2,12,12], [3, 4,3,4],[33,45,5,6],[78,705,8,0]])\n",
        "#arr_multid[row_slice,col_slice,gapper]\n",
        "arr_multid[:,1:3]#it goes till n-1\n",
        "\n",
        "\n",
        "#conditional slicing\n",
        "arr_initial_new=arr_initial[arr_initial>50]\n",
        "print(arr_initial_new)\n",
        "arr_initial_new=arr_initial[arr_initial%2==0]\n",
        "print(arr_initial_new)"
      ]
    },
    {
      "cell_type": "markdown",
      "metadata": {
        "id": "rhCPvaMLoAD-"
      },
      "source": [
        "code friendly funcs:::"
      ]
    },
    {
      "cell_type": "code",
      "execution_count": 35,
      "metadata": {
        "colab": {
          "base_uri": "https://localhost:8080/"
        },
        "id": "FaIH53bJn_VW",
        "outputId": "6517da55-a459-450a-80ed-b085e1298315"
      },
      "outputs": [
        {
          "name": "stdout",
          "output_type": "stream",
          "text": [
            "original arr [11 22 33 44 55 66 77 88 99]\n",
            "unique element of array [11 22 33 44 55 66 77 88 99]\n",
            "sorted array [11 22 33 44 55 66 77 88 99]\n",
            "sorted in the array index [0 1 2 3 4 5 6 7 8]\n",
            "conditional validated [0 0 0 0 1 1 1 1 1]\n",
            "cumalative sum [ 11  33  66 110 165 231 308 396 495]\n",
            "randomnumber array  [[0 5 4]\n",
            " [2 6 6]\n",
            " [3 1 8]]\n",
            "product in array 34485\n",
            "concate join array [44 33 22 11 44 33 22 11]\n",
            "first reshaped array [[44 33 22 11]]\n",
            "second reshaped array [[99 77 55]]\n",
            "new concated array [[44 33 22 11 99 77 55]]\n",
            "vertically joined arr [[44 33 22 11]\n",
            " [99 77 55  0]]\n",
            "horizontaly joined arr [[44 33 22 11 99 77 55]]\n"
          ]
        }
      ],
      "source": [
        "import numpy as np\n",
        "\n",
        "# ... (previous code)\n",
        "print(\"original arr\",arr_initial)\n",
        "print(\"unique element of array\",np.unique(arr_initial))\n",
        "print(\"sorted array\",np.sort(arr_initial))\n",
        "print(\"sorted in the array index\",np.argsort(arr_initial))\n",
        "print(\"conditional validated\",np.where(arr_initial>54,1,0))\n",
        "print(\"cumalative sum\",np.cumsum(arr_initial))\n",
        "print(\"randomnumber array \", np.random.randint(0, 10, (3, 3)))\n",
        "#start ,end , shape\n",
        "print(\"product in array\",np.dot(arr_initial,arr_initial))\n",
        "print(arr_first_half@arr_first_half)\n",
        "print(\"concate join array\",np.concatenate([arr_first_half,arr_first_half],axis=0))\n",
        "\n",
        "arr_first_half_2d = arr_first_half.reshape(1, -1)\n",
        "\n",
        "# Removed the [:-1] slicing to ensure both arrays have the same number of columns after reshaping\n",
        "arr_second_half_2d = arr_second_half.reshape(1, -1)\n",
        "print(\"first reshaped array\",arr_first_half_2d)\n",
        "print(\"second reshaped array\",arr_second_half_2d)\n",
        "print(\"new concated array\",np.concatenate([arr_first_half_2d,arr_second_half_2d],axis=1))\n",
        "\n",
        "# Pad arr_second_half_2d to match the number of columns in arr_first_half_2d for vstack\n",
        "# Pad on the right (mode='constant', pad_width=((0, 0), (0, number_of_columns_to_add)))\n",
        "# The number of columns to add is the difference between the shapes along axis 1\n",
        "pad_width = arr_first_half_2d.shape[1] - arr_second_half_2d.shape[1]\n",
        "arr_second_half_2d_padded = np.pad(arr_second_half_2d, ((0, 0), (0, pad_width)), mode='constant', constant_values=0) # Pad with zeros\n",
        "\n",
        "# Now vstack will work as both arrays have the same number of columns\n",
        "print(\"vertically joined arr\",np.vstack([arr_first_half_2d, arr_second_half_2d_padded]))#row instance is added\n",
        "\n",
        "print(\"horizontaly joined arr\",np.hstack([arr_first_half_2d,arr_second_half_2d]))#col size len increases"
      ]
    },
    {
      "cell_type": "code",
      "execution_count": 36,
      "metadata": {
        "id": "jdoXzyANup9p"
      },
      "outputs": [],
      "source": [
        "# Create a multidimensional array\n",
        "multidimensional_array = np.array([[1, 2, 3], [4, 5, 6], [7, 8, 9]])\n",
        "\n",
        "# Use the flatten() method to convert it to a 1D array\n",
        "one_dimensional_array = multidimensional_array.flatten()"
      ]
    },
    {
      "cell_type": "markdown",
      "metadata": {
        "id": "QTu-yMNUvWHu"
      },
      "source": [
        "compare two array\n"
      ]
    },
    {
      "cell_type": "code",
      "execution_count": 37,
      "metadata": {
        "colab": {
          "base_uri": "https://localhost:8080/"
        },
        "id": "Yt2djXx4vXxf",
        "outputId": "42328f44-40d2-470e-9d13-c99ec754c80c"
      },
      "outputs": [
        {
          "data": {
            "text/plain": [
              "False"
            ]
          },
          "execution_count": 37,
          "metadata": {},
          "output_type": "execute_result"
        }
      ],
      "source": [
        "np.array_equal(arr_math, arr_initial)"
      ]
    },
    {
      "cell_type": "markdown",
      "metadata": {
        "id": "k64aXf7LwBlw"
      },
      "source": [
        "remove null values"
      ]
    },
    {
      "cell_type": "code",
      "execution_count": 38,
      "metadata": {
        "colab": {
          "base_uri": "https://localhost:8080/"
        },
        "id": "wcndIIqwwEOZ",
        "outputId": "5485a0f0-8b98-44ad-ae6a-49eeba8e0332"
      },
      "outputs": [
        {
          "name": "stdout",
          "output_type": "stream",
          "text": [
            "[1. 2. 4. 5.]\n"
          ]
        }
      ],
      "source": [
        "import numpy as np\n",
        "\n",
        "# Create a NumPy array with missing values (NaN)\n",
        "arr = np.array([1.0, 2.0, np.nan, 4.0, 5.0])\n",
        "\n",
        "# Create a masked array where missing values are masked\n",
        "masked_arr = np.ma.masked_invalid(arr)\n",
        "\n",
        "# Access only non-missing values\n",
        "clean_data = masked_arr.compressed()\n",
        "\n",
        "print(clean_data)"
      ]
    },
    {
      "cell_type": "markdown",
      "metadata": {
        "id": "Bidq5qXSwjOW"
      },
      "source": [
        "no of occurance of each ele"
      ]
    },
    {
      "cell_type": "code",
      "execution_count": 40,
      "metadata": {
        "colab": {
          "base_uri": "https://localhost:8080/"
        },
        "id": "19JuHYNPwl8a",
        "outputId": "679f1125-7802-4264-98d6-4563e1fabbfc"
      },
      "outputs": [
        {
          "data": {
            "text/plain": [
              "array([4, 2, 1, 1, 3, 2, 0, 0, 0, 1])"
            ]
          },
          "execution_count": 40,
          "metadata": {},
          "output_type": "execute_result"
        }
      ],
      "source": [
        "arr = np.array([0, 5, 4, 0, 4, 4, 3, 0, 0, 5, 2, 1, 1, 9])\n",
        "np.bincount(arr)#[countof 0 , couuntof 1...]"
      ]
    },
    {
      "cell_type": "markdown",
      "metadata": {
        "id": "fTg_2IbxxC6c"
      },
      "source": [
        "unique ele , n count of ele"
      ]
    },
    {
      "cell_type": "code",
      "execution_count": 41,
      "metadata": {
        "colab": {
          "base_uri": "https://localhost:8080/"
        },
        "id": "jUHZwIedxCMl",
        "outputId": "360bbe6c-1ee7-4493-cfe3-61e9863a7f4a"
      },
      "outputs": [
        {
          "name": "stdout",
          "output_type": "stream",
          "text": [
            "[1 2 3 4 5 6 7]\n",
            "[2 2 3 1 2 1 1]\n"
          ]
        }
      ],
      "source": [
        "import numpy as np\n",
        "array = np.array([1, 2, 3, 1, 2, 3, 3, 4, 5, 6, 7, 5])\n",
        "unique, counts = np.unique(array, return_counts=True)\n",
        "print(unique)\n",
        "print(counts)"
      ]
    },
    {
      "cell_type": "markdown",
      "metadata": {
        "id": "BIZDyMoCxlv0"
      },
      "source": [
        "split in given parts"
      ]
    },
    {
      "cell_type": "code",
      "execution_count": 43,
      "metadata": {
        "colab": {
          "base_uri": "https://localhost:8080/"
        },
        "id": "HL4gUpnTxnmb",
        "outputId": "5a18728c-d1b4-4b1f-d1b4-8235dca6dbb2"
      },
      "outputs": [
        {
          "data": {
            "text/plain": [
              "[array([0.]),\n",
              " array([1.]),\n",
              " array([2.]),\n",
              " array([3.]),\n",
              " array([4.]),\n",
              " array([], dtype=float64),\n",
              " array([], dtype=float64)]"
            ]
          },
          "execution_count": 43,
          "metadata": {},
          "output_type": "execute_result"
        }
      ],
      "source": [
        "import numpy as np\n",
        "arr = np.arange(5.0)\n",
        "split_arrs = np.array_split(arr, 7)\n",
        "split_arrs"
      ]
    },
    {
      "cell_type": "markdown",
      "metadata": {
        "id": "KF2fQE12x7l2"
      },
      "source": [
        "Question Hunt !!!\n",
        "\n",
        "\n",
        "1 .difference between arr.size vs arr.shape\n",
        "2. why use numpy if i have array\n",
        "3. how to create identity matricx\n",
        "4. linspace vs arange\n",
        "\n",
        "\n",
        "5. shallow copy vs deep copy\n",
        "6. random().randint() vs seed()\n",
        "7. universal functions ?/\n",
        "8. numpy faster than list why?\n",
        "9. normalisation technique used to normailse nupy array\n",
        "\n",
        "10. np.mean() method calculates the arithmetic mean and provides additional   options for input and results. For example, it has the option to specify  what data types have to be taken, where the result has to be placed etc.\n",
        "11. np.average() computes the weighted average if the weights parameter is  specified. In the case of weighted average, instead of considering that  each data point is contributing equally to the final average, it considers that some data points have more weightage than the others (unequal contribution)\n",
        "\n",
        "12. broadcast vs vectorisation  \n",
        "13. memmap==>memory optimisation\n",
        "14. numpy multicore ?why \n",
        "\n"
      ]
    },
    {
      "cell_type": "code",
      "execution_count": null,
      "metadata": {
        "id": "cEpB6aEkyCj_"
      },
      "outputs": [],
      "source": [
        "df[‘student_cat’] = np.where(df[‘score’] > 80, ‘good’, ‘bad’)"
      ]
    },
    {
      "cell_type": "code",
      "execution_count": null,
      "metadata": {},
      "outputs": [],
      "source": [
        "#create a window of size 3 for through out array\n",
        "import numpy as np\n",
        "\n",
        "from numpy.lib.stride_tricks import sliding_window_view\n",
        "x = np.arange(6)\n",
        "v = sliding_window_view(x, 3)"
      ]
    },
    {
      "cell_type": "code",
      "execution_count": null,
      "metadata": {},
      "outputs": [],
      "source": [
        "import numpy as np\n",
        "\n",
        "array = np.array([[10, 15, 20, 25],\n",
        "                  [30, 35, 40, 45],\n",
        "                  [50, 55, 60, 65]])\n",
        "condition = array > 30\n",
        "filtered_elements = array[condition]\n",
        "print(filtered_elements)  \n",
        "print(condition)"
      ]
    },
    {
      "cell_type": "code",
      "execution_count": null,
      "metadata": {},
      "outputs": [],
      "source": [
        "import numpy as np\n",
        "\n",
        "# Create a 2D array\n",
        "data = np.array([\n",
        "    [1, 2, 3, 4, 5],\n",
        "    [10, 15, 20, 25, 30],\n",
        "    [100, 200, 300, 400, 500]\n",
        "])\n",
        "\n",
        "#find the max from each row -min from each row  \n",
        "def diffmaxmin(arr):\n",
        "    return np.max(arr)-np.min(arr)\n",
        "\n",
        "#for each row i need to do the func diffmaxmin \n",
        "answer=np.apply_along_axis(diffmaxmin,axis=1,arr=data)\n",
        "print(\"the row wise maxmindiff\",answer)"
      ]
    },
    {
      "cell_type": "code",
      "execution_count": null,
      "metadata": {},
      "outputs": [],
      "source": [
        "import numpy as np\n",
        "\n",
        "# Create a 2D array\n",
        "data = np.array([\n",
        "    [1, 2, 3, 4, 5],\n",
        "    [10, 15, 20, 25, 30],\n",
        "    [100, 200, 300, 400, 500]\n",
        "])\n",
        "answer=np.apply(lambda ele:ele%2, data)\n",
        "print(answer)\n",
        "#this is wrong \n",
        "#.apply() is a method used in Pandas, not NumPy\n",
        "\n",
        "#use vectorised code \n",
        "import numpy as np\n",
        "\n",
        "# Create a 2D array\n",
        "data = np.array([\n",
        "    [1, 2, 3, 4, 5],\n",
        "    [10, 15, 20, 25, 30],\n",
        "    [100, 200, 300, 400, 500]\n",
        "])\n",
        "\n",
        "# Element-wise modulus operation\n",
        "answer = data % 2\n",
        "\n",
        "print(answer)\n"
      ]
    },
    {
      "cell_type": "code",
      "execution_count": null,
      "metadata": {},
      "outputs": [],
      "source": [
        "import numpy as np\n",
        "\n",
        "# Create a 2D array\n",
        "data = np.array([\n",
        "    [1, 2, 3, 4, 5],\n",
        "    [10, 15, 20, 25, 30],\n",
        "    [100, 200, 300, 400, 500]\n",
        "])\n",
        "answer=np.apply_along_axis(lambda ele:ele+2,axis=1 , arr=data)\n",
        "print(answer)\n",
        "# [[  3   4   5   6   7]\n",
        "#  [ 12  17  22  27  32]\n",
        "#  [102 202 302 402 502]]"
      ]
    },
    {
      "cell_type": "code",
      "execution_count": null,
      "metadata": {},
      "outputs": [],
      "source": [
        "#generate the dataset using numpy\n",
        "import numpy as np\n",
        "\n",
        "# Generate a sample dataset\n",
        "np.random.seed(42)  # For reproducibility\n",
        "data = np.vstack([\n",
        "    np.random.normal(loc=[1, 1], scale=0.5, size=(50, 2)),\n",
        "    np.random.normal(loc=[5, 5], scale=0.5, size=(50, 2)),\n",
        "    np.random.normal(loc=[9, 1], scale=0.5, size=(50, 2))\n",
        "])"
      ]
    },
    {
      "cell_type": "code",
      "execution_count": null,
      "metadata": {},
      "outputs": [],
      "source": [
        "#reverse a multi d array \n",
        "array = np.array([[1, 2, 3], [4, 5, 6]])\n",
        "flipped = np.flip(array)\n",
        "print(array)"
      ]
    },
    {
      "cell_type": "code",
      "execution_count": null,
      "metadata": {},
      "outputs": [],
      "source": [
        "#create a diagonal matrix \n",
        "arr3 = np.diag([1,2,3,4])"
      ]
    },
    {
      "cell_type": "code",
      "execution_count": null,
      "metadata": {},
      "outputs": [],
      "source": [
        "# arr[:0] vs \n",
        "# arr[:,[0]]\n",
        "#meshgrid \n"
      ]
    },
    {
      "cell_type": "code",
      "execution_count": null,
      "metadata": {},
      "outputs": [],
      "source": [
        "def moved_avg(arr,n=3):\n",
        "    cumsum=np.cumsum(arr)\n",
        "    cumsum[n:]=cumsum[n:]-cumsum[:-n]\n",
        "    return cumsum[n-1:]/n"
      ]
    }
  ],
  "metadata": {
    "colab": {
      "provenance": []
    },
    "kernelspec": {
      "display_name": "Python 3",
      "name": "python3"
    },
    "language_info": {
      "name": "python"
    }
  },
  "nbformat": 4,
  "nbformat_minor": 0
}
